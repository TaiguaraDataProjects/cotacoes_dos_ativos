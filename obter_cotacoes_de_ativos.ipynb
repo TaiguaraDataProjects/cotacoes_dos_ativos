{
 "cells": [
  {
   "metadata": {},
   "cell_type": "markdown",
   "source": "# Organização inicial",
   "id": "1a4fe3ea2b2f845"
  },
  {
   "metadata": {},
   "cell_type": "markdown",
   "source": "## Importações",
   "id": "5a3cae668af55a46"
  },
  {
   "metadata": {
    "ExecuteTime": {
     "end_time": "2025-02-17T22:59:48.336454Z",
     "start_time": "2025-02-17T22:59:47.335856Z"
    }
   },
   "cell_type": "code",
   "source": [
    "from prepare_env import PrepareEnv\n",
    "from configs import Configs\n",
    "import os\n",
    "import yfinance as yf\n",
    "import pandas as pd\n",
    "import datetime"
   ],
   "id": "84f9cae2fbd1b764",
   "outputs": [],
   "execution_count": 1
  },
  {
   "metadata": {
    "ExecuteTime": {
     "end_time": "2025-02-17T22:59:48.345426Z",
     "start_time": "2025-02-17T22:59:48.339469Z"
    }
   },
   "cell_type": "code",
   "source": [
    "preparer = PrepareEnv()\n",
    "preparer.prepare_lib(\"yfinance\")"
   ],
   "id": "b85d4fa48f3e9413",
   "outputs": [
    {
     "name": "stdout",
     "output_type": "stream",
     "text": [
      "yfinance já está instalado!\n"
     ]
    }
   ],
   "execution_count": 2
  },
  {
   "metadata": {},
   "cell_type": "markdown",
   "source": "## Configurações iniciais",
   "id": "dfac18ed24a830c2"
  },
  {
   "metadata": {
    "ExecuteTime": {
     "end_time": "2025-02-17T22:59:48.428940Z",
     "start_time": "2025-02-17T22:59:48.424513Z"
    }
   },
   "cell_type": "code",
   "source": "configs = Configs(os.getcwd(), '2025-01-01', '2025-02-17', True, False)",
   "id": "e39a84226a9ab350",
   "outputs": [],
   "execution_count": 3
  },
  {
   "metadata": {
    "ExecuteTime": {
     "end_time": "2025-02-17T22:59:48.454987Z",
     "start_time": "2025-02-17T22:59:48.450785Z"
    }
   },
   "cell_type": "code",
   "source": [
    "# Configuração temporária para exibir tudo\n",
    "pd.set_option('display.max_rows', None)\n",
    "pd.set_option('display.max_columns', None)"
   ],
   "id": "5cc4cf3520ef061e",
   "outputs": [],
   "execution_count": 4
  },
  {
   "metadata": {},
   "cell_type": "markdown",
   "source": "### Métodos principais",
   "id": "e6b7afc3c6089dac"
  },
  {
   "metadata": {
    "ExecuteTime": {
     "end_time": "2025-02-17T22:59:48.472367Z",
     "start_time": "2025-02-17T22:59:48.466689Z"
    }
   },
   "cell_type": "code",
   "source": [
    "# Method para quebrar a lista de informações cadastrais\n",
    "parametros = ['shortName', 'longName', 'longBusinessSummary']\n",
    "\n",
    "\n",
    "def organizar_dados_cadastrais(ativo, retorno_api_cadastro, parametros):\n",
    "    return [ativo][:6] + [retorno_api_cadastro.get(parametro) for parametro in parametros]"
   ],
   "id": "480420a191e10e3a",
   "outputs": [],
   "execution_count": 5
  },
  {
   "metadata": {
    "ExecuteTime": {
     "end_time": "2025-02-17T22:59:48.489332Z",
     "start_time": "2025-02-17T22:59:48.483463Z"
    }
   },
   "cell_type": "code",
   "source": [
    "# Realiza a captura de dados dos ativos no YFinance\n",
    "def capturar_dados_do_ativo(ativo):\n",
    "    try:\n",
    "        ticker = yf.Ticker(ativo)\n",
    "        data = ticker.history(period=\"1d\", interval='1m')\n",
    "        info = ticker.info\n",
    "        if data.empty:\n",
    "            return None\n",
    "\n",
    "        return organizar_dados_cadastrais(ativo, info, parametros)\n",
    "    except:\n",
    "        return None"
   ],
   "id": "f32e276238e554ec",
   "outputs": [],
   "execution_count": 6
  },
  {
   "metadata": {
    "ExecuteTime": {
     "end_time": "2025-02-17T22:59:48.505369Z",
     "start_time": "2025-02-17T22:59:48.500216Z"
    }
   },
   "cell_type": "code",
   "source": [
    "# Gerar uma lista geral a partir da lista de ativos\n",
    "\n",
    "def gerar_lista_geral(lista_de_ativos):\n",
    "    lista_geral = []\n",
    "    for ativo in lista_de_ativos:\n",
    "\n",
    "        retorno = capturar_dados_do_ativo(ativo)\n",
    "        if retorno is not None:\n",
    "            lista_geral.append(retorno)\n",
    "\n",
    "    return lista_geral"
   ],
   "id": "36a2cca945f23980",
   "outputs": [],
   "execution_count": 7
  },
  {
   "metadata": {
    "ExecuteTime": {
     "end_time": "2025-02-17T22:59:48.521867Z",
     "start_time": "2025-02-17T22:59:48.516474Z"
    }
   },
   "cell_type": "code",
   "source": [
    "# Obter historico das cotacoes do ativo\n",
    "\n",
    "def obter_historico_cotacoes(ativo, data_inicial, data_final):\n",
    "    intervalo = '1h'\n",
    "    cotacoes = yf.download(ativo, start=data_inicial, end=data_final, interval=intervalo)\n",
    "    cotacoes['Ativo'] = ativo[:6]\n",
    "    if isinstance(cotacoes.columns, pd.MultiIndex):\n",
    "        cotacoes.columns = cotacoes.columns.droplevel(1)\n",
    "    cotacoes.rename(\n",
    "        columns={'Price Datetime': 'Data do Fechamento', 'Adj Close': 'Fechamento Ajustado', 'Close': 'Fechamento',\n",
    "                 'High': 'Maior Cotação', 'Low': 'Menor Cotação', 'Volume': 'Volume'}, inplace=True)\n",
    "    cotacoes.reset_index(inplace=True)\n",
    "    return cotacoes"
   ],
   "id": "4ccac72ec2591837",
   "outputs": [],
   "execution_count": 8
  },
  {
   "metadata": {
    "ExecuteTime": {
     "end_time": "2025-02-17T22:59:48.539626Z",
     "start_time": "2025-02-17T22:59:48.533691Z"
    }
   },
   "cell_type": "code",
   "source": [
    "# Acumular dados de lista de ativos\n",
    "def compilar_cotacoes_dos_ativos(lista_de_ativos, data_inicial, data_final):\n",
    "    lista_geral = pd.DataFrame()\n",
    "    ativos_sem_resultado = []\n",
    "\n",
    "    for ativo in lista_de_ativos:\n",
    "        try:\n",
    "            cotacoes_do_ativo = obter_historico_cotacoes(ativo, data_inicial, data_final)\n",
    "            if cotacoes_do_ativo is None or len(cotacoes_do_ativo) == 0:\n",
    "                print(f\"Não foi possível obter dados para o ativo {ativo}\")\n",
    "                ativos_sem_resultado.append(ativo)\n",
    "                continue\n",
    "            else:\n",
    "                lista_geral = pd.concat([lista_geral, cotacoes_do_ativo],\n",
    "                                        ignore_index=True)  # ignore_index para evitar duplicação de índices\n",
    "\n",
    "        except Exception as e:\n",
    "            print(f\"Ocorreu um erro ao processar o ativo {ativo}: {e}\")\n",
    "            continue\n",
    "\n",
    "    print(\">>>>>>>>>>>>>>>>>>>>>>>>>>>>>>> Ativos sem resultado:\", ativos_sem_resultado)\n",
    "\n",
    "    return lista_geral"
   ],
   "id": "c339f52dadc9e20f",
   "outputs": [],
   "execution_count": 9
  },
  {
   "metadata": {
    "ExecuteTime": {
     "end_time": "2025-02-17T22:59:48.566323Z",
     "start_time": "2025-02-17T22:59:48.560499Z"
    }
   },
   "cell_type": "code",
   "source": [
    "# Retornar uma lista com os tickers para iteração\n",
    "def retornar_lista_de_tickers(lista_de_ativos, coluna):\n",
    "    if coluna in lista_de_ativos.columns:\n",
    "\n",
    "        tickers = lista_de_ativos[coluna].tolist()\n",
    "        tickers_ajustado = [novo_ticker + '11.SA' for novo_ticker in tickers]\n",
    "\n",
    "        return tickers_ajustado\n",
    "\n",
    "    else:\n",
    "        print(f\"A coluna '{coluna}' não existe no DataFrame.\")"
   ],
   "id": "9355c5060275584",
   "outputs": [],
   "execution_count": 10
  },
  {
   "metadata": {
    "ExecuteTime": {
     "end_time": "2025-02-17T22:59:48.583659Z",
     "start_time": "2025-02-17T22:59:48.570472Z"
    }
   },
   "cell_type": "code",
   "source": [
    "# Obter historico das cotacoes do ativo\n",
    "\n",
    "def obter_historico_de_dividendos(ativo, data_inicial, data_final):\n",
    "    ticker = yf.Ticker(ativo)\n",
    "\n",
    "    # Obtendo os dividendos\n",
    "    info = ticker.dividends\n",
    "    info = info[(info.index >= data_inicial) & (info.index <= data_final)]\n",
    "\n",
    "    # Renomeando a coluna para 'Dividendos'\n",
    "    info = info.rename('Dividendos').reset_index()\n",
    "    info['Ativo'] = ativo[:6]  # Adicionando o ativo como nova coluna\n",
    "\n",
    "    return info"
   ],
   "id": "31c73a6df1ea4940",
   "outputs": [],
   "execution_count": 11
  },
  {
   "metadata": {
    "ExecuteTime": {
     "end_time": "2025-02-17T22:59:48.598313Z",
     "start_time": "2025-02-17T22:59:48.593283Z"
    }
   },
   "cell_type": "code",
   "source": [
    "# Acumular dados de lista de ativos\n",
    "def compilar_dividendos_dos_ativos(lista_de_ativos, data_inicial, data_final):\n",
    "    lista_geral = pd.DataFrame()\n",
    "    ativos_sem_resultado = []\n",
    "\n",
    "    for ativo in lista_de_ativos:\n",
    "        try:\n",
    "            cotacoes_do_ativo = obter_historico_de_dividendos(ativo, data_inicial, data_final)\n",
    "            if cotacoes_do_ativo is None or len(cotacoes_do_ativo) == 0:\n",
    "                print(f\"Não foi possível obter dados de DIVIDENDOS para o ativo {ativo}\")\n",
    "                ativos_sem_resultado.append(ativo)\n",
    "                continue\n",
    "            else:\n",
    "                lista_geral = pd.concat([lista_geral, cotacoes_do_ativo],\n",
    "                                        ignore_index=True)  # ignore_index para evitar duplicação de índices\n",
    "\n",
    "        except Exception as e:\n",
    "            print(f\"Ocorreu um erro ao processar os DIVIDENDOS do ativo {ativo}: {e}\")\n",
    "            continue\n",
    "\n",
    "    print(\">>>>>>>>>>>>>>>>>>>>>>>>>>>>>>> Ativos sem resultado:\", ativos_sem_resultado)\n",
    "\n",
    "    return lista_geral"
   ],
   "id": "a644701091ac5b4f",
   "outputs": [],
   "execution_count": 12
  },
  {
   "metadata": {},
   "cell_type": "markdown",
   "source": "# Captura de dados",
   "id": "300f925aabb415e1"
  },
  {
   "metadata": {},
   "cell_type": "markdown",
   "source": "## Lista de todos os fundos imobiliários",
   "id": "bd7dd03636c12d74"
  },
  {
   "metadata": {
    "ExecuteTime": {
     "end_time": "2025-02-17T22:59:48.625643Z",
     "start_time": "2025-02-17T22:59:48.607121Z"
    }
   },
   "cell_type": "code",
   "source": [
    "# Faz a leitura de todos os fundos imobiliários disponíveis na B3\n",
    "fundos_imobiliarios = pd.read_csv(configs.arquivo_com_lista_de_fundos_imobiliarios, encoding='ISO-8859-1',\n",
    "                                  delimiter=';')\n",
    "fundos_imobiliarios.drop(columns=['Fundo', 'Segmento'], inplace=True)\n",
    "fundos_imobiliarios.head()"
   ],
   "id": "e96a1052dfd6fca5",
   "outputs": [
    {
     "data": {
      "text/plain": [
       "                                        Razão Social Código\n",
       "0    AF INVEST CRI FDO. INV. IMOB - RECEBÍVEIS IMOB.   AFHI\n",
       "1                           AJ MALLS FDO DE INV IMOB   AJFI\n",
       "2  ALIANZA CRÉDITO  IMOBILIÁRIO FUNDO DE INVESTIM...   ALZC\n",
       "3  ALIANZA MULTIESTRATÉGIA FUNDO DE INVESTIMENTO ...   ALZM\n",
       "4             ALIANZA MULTIOFFICES  - FDO. INV. IMOB   MTOF"
      ],
      "text/html": [
       "<div>\n",
       "<style scoped>\n",
       "    .dataframe tbody tr th:only-of-type {\n",
       "        vertical-align: middle;\n",
       "    }\n",
       "\n",
       "    .dataframe tbody tr th {\n",
       "        vertical-align: top;\n",
       "    }\n",
       "\n",
       "    .dataframe thead th {\n",
       "        text-align: right;\n",
       "    }\n",
       "</style>\n",
       "<table border=\"1\" class=\"dataframe\">\n",
       "  <thead>\n",
       "    <tr style=\"text-align: right;\">\n",
       "      <th></th>\n",
       "      <th>Razão Social</th>\n",
       "      <th>Código</th>\n",
       "    </tr>\n",
       "  </thead>\n",
       "  <tbody>\n",
       "    <tr>\n",
       "      <th>0</th>\n",
       "      <td>AF INVEST CRI FDO. INV. IMOB - RECEBÍVEIS IMOB.</td>\n",
       "      <td>AFHI</td>\n",
       "    </tr>\n",
       "    <tr>\n",
       "      <th>1</th>\n",
       "      <td>AJ MALLS FDO DE INV IMOB</td>\n",
       "      <td>AJFI</td>\n",
       "    </tr>\n",
       "    <tr>\n",
       "      <th>2</th>\n",
       "      <td>ALIANZA CRÉDITO  IMOBILIÁRIO FUNDO DE INVESTIM...</td>\n",
       "      <td>ALZC</td>\n",
       "    </tr>\n",
       "    <tr>\n",
       "      <th>3</th>\n",
       "      <td>ALIANZA MULTIESTRATÉGIA FUNDO DE INVESTIMENTO ...</td>\n",
       "      <td>ALZM</td>\n",
       "    </tr>\n",
       "    <tr>\n",
       "      <th>4</th>\n",
       "      <td>ALIANZA MULTIOFFICES  - FDO. INV. IMOB</td>\n",
       "      <td>MTOF</td>\n",
       "    </tr>\n",
       "  </tbody>\n",
       "</table>\n",
       "</div>"
      ]
     },
     "execution_count": 13,
     "metadata": {},
     "output_type": "execute_result"
    }
   ],
   "execution_count": 13
  },
  {
   "metadata": {
    "ExecuteTime": {
     "end_time": "2025-02-17T22:59:48.677886Z",
     "start_time": "2025-02-17T22:59:48.671865Z"
    }
   },
   "cell_type": "code",
   "source": [
    "# Gerar lista com os fundos imobiliários\n",
    "lista_de_fundos_imobiliarios = retornar_lista_de_tickers(fundos_imobiliarios, 'Código')\n",
    "print(lista_de_fundos_imobiliarios)"
   ],
   "id": "6b657286adfb5d60",
   "outputs": [
    {
     "name": "stdout",
     "output_type": "stream",
     "text": [
      "['AFHI11.SA', 'AJFI11.SA', 'ALZC11.SA', 'ALZM11.SA', 'MTOF11.SA', 'BICR11.SA', 'ALZR11.SA', 'AURB11.SA', 'APXR11.SA', 'APXU11.SA', 'AROA11.SA', 'ARXD11.SA', 'AIEC11.SA', 'AZPE11.SA', 'AZPL11.SA', 'BCRI11.SA', 'BNFS11.SA', 'BTML11.SA', 'BZEL11.SA', 'BPDR11.SA', 'BPLC11.SA', 'BBFI11.SA', 'BBFO11.SA', 'BBIG11.SA', 'BBIM11.SA', 'BBRC11.SA', 'RNDP11.SA', 'BGRB11.SA', 'BLOG11.SA', 'BLMG11.SA', 'BRSE11.SA', 'BCIA11.SA', 'CARE11.SA', 'RTEL11.SA', 'FATN11.SA', 'BRCD11.SA', 'BRCO11.SA', 'BICE11.SA', 'BIME11.SA', 'BRIM11.SA', 'BRIP11.SA', 'BIPD11.SA', 'BIPE11.SA', 'BRIX11.SA', 'BROF11.SA', 'BETW11.SA', 'LLAO11.SA', 'BTHI11.SA', 'BTLG11.SA', 'BTHF11.SA', 'BTYU11.SA', 'BTWR11.SA', 'BTSG11.SA', 'BTSI11.SA', 'CRFF11.SA', 'CXRI11.SA', 'CCME11.SA', 'CCVA11.SA', 'EVBI11.SA', 'CPLG11.SA', 'CPOF11.SA', 'CPFF11.SA', 'CPTS11.SA', 'CPSH11.SA', 'CACR11.SA', 'CBOP11.SA', 'BLCA11.SA', 'CENU11.SA', 'CFHI11.SA', 'CFII11.SA', 'CJCT11.SA', 'CIXM11.SA', 'CIXR11.SA', 'CLIN11.SA', 'CSMC11.SA', 'RENV11.SA', 'CVPR11.SA', 'CYCR11.SA', 'CYLD11.SA', 'DAMA11.SA', 'ASMT11.SA', 'ASRF11.SA', 'DLMT11.SA', 'DPRO11.SA', 'DEVA11.SA', 'DAMT11.SA', 'DOVL11.SA', 'EDGE11.SA', 'EMET11.SA', 'EGYR11.SA', 'EQIR11.SA', 'ERCR11.SA', 'ERPA11.SA', 'KEVE11.SA', 'EXES11.SA', 'FLCR11.SA', 'FAGL11.SA', 'FARU11.SA', 'VRTA11.SA', 'VRTM11.SA', 'BMII11.SA', 'FIIC11.SA', 'LRDI11.SA', 'MMPD11.SA', 'IBCR11.SA', 'IDGR11.SA', 'IDUA11.SA', 'GAME11.SA', 'TRBL11.SA', 'ANCR11.SA', 'FAED11.SA', 'BMLC11.SA', 'BRCR11.SA', 'FCFL11.SA', 'CNES11.SA', 'CEOC11.SA', 'FAMB11.SA', 'EDGA11.SA', 'ELDO11.SA', 'HCRI11.SA', 'NSLU11.SA', 'HTMX11.SA', 'MAXR11.SA', 'NVHO11.SA', 'PQDP11.SA', 'PATB11.SA', 'RBRR11.SA', 'RECR11.SA', 'RECT11.SA', 'SHDP11.SA', 'SAIC11.SA', 'ALMI11.SA', 'TRNT11.SA', 'WTSP11.SA', 'LVBI11.SA', 'BRHT11.SA', 'BPFF11.SA', 'BVAR11.SA', 'BPML11.SA', 'BTRA11.SA', 'CXCI11.SA', 'CXCE11.SA', 'CXTL11.SA', 'CTXT11.SA', 'CJFI11.SA', 'FLMA11.SA', 'EGDB11.SA', 'EDFO11.SA', 'EURO11.SA', 'EZTB11.SA', 'ABCP11.SA', 'GTWR11.SA', 'HERM11.SA', 'HUCG11.SA', 'HUSC11.SA', 'FIIB11.SA', 'FINF11.SA', 'JKDF11.SA', 'JKEF11.SA', 'FMOF11.SA', 'MVFI11.SA', 'OULG11.SA', 'PABY11.SA', 'FPNG11.SA', 'ESTQ11.SA', 'VPSI11.SA', 'FPAB11.SA', 'QNTS11.SA', 'RBRY11.SA', 'RBRP11.SA', 'ANGC11.SA', 'RCRB11.SA', 'RBED11.SA', 'RBVA11.SA', 'RNGO11.SA', 'FISC11.SA', 'SCPF11.SA', 'SFFI11.SA', 'SHPH11.SA', 'SMRE11.SA', 'TGAR11.SA', 'TGRU11.SA', 'TMFI11.SA', 'BARI11.SA', 'VERE11.SA', 'FVPQ11.SA', 'FIVN11.SA', 'FBTS11.SA', 'VTLT11.SA', 'VSHO11.SA', 'IDFI11.SA', 'FAVM11.SA', 'FIGV11.SA', 'PLCR11.SA', 'VTPL11.SA', 'RELG11.SA', 'CVBI11.SA', 'MCCI11.SA', 'ATWN11.SA', 'BTAL11.SA', 'CXCO11.SA', 'HOSI11.SA', 'MGHT11.SA', 'RECX11.SA', 'PVBI11.SA', 'DVFF11.SA', 'RFOF11.SA', 'VTPA11.SA', 'VTXI11.SA', 'FTRE11.SA', 'BCFF11.SA', 'NCHB11.SA', 'BTCI11.SA', 'HRES11.SA', 'N4V111.SA', 'IRDM11.SA', 'VCHG11.SA', 'FLNR11.SA', 'JCIN11.SA', 'HLMB11.SA', 'SBCL11.SA', 'FRHY11.SA', 'GARE11.SA', 'SPVJ11.SA', 'KFOF11.SA', 'PULV11.SA', 'HOMS11.SA', 'SNEL11.SA', 'BLUR11.SA', 'LKDV11.SA', 'RBRI11.SA', 'SPXS11.SA', 'APXM11.SA', 'CXAG11.SA', 'HBCR11.SA', 'MINT11.SA', 'OPTM11.SA', 'RZTR11.SA', 'ROOF11.SA', 'TCIN11.SA', 'GCDL11.SA', 'GCRI11.SA', 'GCOI11.SA', 'GZIT11.SA', 'GSFI11.SA', 'FIGS11.SA', 'VXXV11.SA', 'GLOG11.SA', 'MALL11.SA', 'GGRC11.SA', 'GRRO11.SA', 'RCFA11.SA', 'HABT11.SA', 'ATCR11.SA', 'HCTR11.SA', 'HCST11.SA', 'HCHG11.SA', 'HAAA11.SA', 'ATSA11.SA', 'HGBL11.SA', 'HGBS11.SA', 'HCOF11.SA', 'HDEL11.SA', 'FLRP11.SA', 'HLOG11.SA', 'HOFC11.SA', 'HDOF11.SA', 'HRDF11.SA', 'HREC11.SA', 'SEED11.SA', 'HPDP11.SA', 'HFOF11.SA', 'YEES11.SA', 'HGIC11.SA', 'HILG11.SA', 'HSAF11.SA', 'HSLG11.SA', 'HSML11.SA', 'HSRE11.SA', 'HUSI11.SA', 'IVCI11.SA', 'GRUL11.SA', 'ICNE11.SA', 'RNOV11.SA', 'FMOB11.SA', 'IMMV11.SA', 'INDE11.SA', 'INLG11.SA', 'INRD11.SA', 'ITIP11.SA', 'ITIT11.SA', 'IBBP11.SA', 'ISCJ11.SA', 'IRBL11.SA', 'IRIM11.SA', 'ICRI11.SA', 'TMPS11.SA', 'ITRI11.SA', 'JCDB11.SA', 'JCDA11.SA', 'JASC11.SA', 'JBFO11.SA', 'VJFD11.SA', 'JFLL11.SA', 'RDLS11.SA', 'JCCJ11.SA', 'JPPC11.SA', 'JPPA11.SA', 'JSAF11.SA', 'JSRE11.SA', 'JSCR11.SA', 'JTPR11.SA', 'KISU11.SA', 'KIVO11.SA', 'KRES11.SA', '003H11.SA', 'KCRE11.SA', 'KLOG11.SA', 'KFEN11.SA', 'KNHF11.SA', 'KNHY11.SA', 'KNRE11.SA', 'KNIP11.SA', 'KOPI11.SA', 'KORE11.SA', 'KNPR11.SA', 'KPMR11.SA', 'KNRI11.SA', 'KNCR11.SA', 'KNSC11.SA', 'KNUQ11.SA', 'LPLP11.SA', 'SLDZ11.SA', 'LRED11.SA', 'LSOI11.SA', 'LASC11.SA', 'LSPA11.SA', 'LIFE11.SA', 'LOFT11.SA', 'LFTT11.SA', 'MANA11.SA', 'MMVE11.SA', 'MCHY11.SA', 'MXRF11.SA', 'MBBI11.SA', 'MCEM11.SA', 'MFII11.SA', 'MFAI11.SA', 'MFCR11.SA', 'MGRI11.SA', 'SHOP11.SA', 'DRIT11.SA', 'MOFF11.SA', 'NCRI11.SA', 'NAVT11.SA', 'APTO11.SA', 'EAGL11.SA', 'NEWL11.SA', 'NEWU11.SA', 'NVIF11.SA', 'OCRE11.SA', 'ONDV11.SA', 'ARRI11.SA', 'OBAL11.SA', 'FTCE11.SA', 'OUJP11.SA', 'PNCR11.SA', 'PNDL11.SA', 'PNLM11.SA', 'PNPR11.SA', 'PNRC11.SA', 'PMIS11.SA', 'VTVI11.SA', 'PQAG11.SA', 'PATA11.SA', 'PATC11.SA', 'HGRE11.SA', 'HGFF11.SA', 'HGLG11.SA', 'PATL11.SA', 'HGPO11.SA', 'HGCR11.SA', 'HGRU11.SA', 'PEMA11.SA', 'PRSN11.SA', 'PORD11.SA', 'PLRI11.SA', 'PCAS11.SA', 'PRZS11.SA', 'PRSV11.SA', 'PBLV11.SA', 'IMOF11.SA', 'QTZD11.SA', 'RZZV11.SA', 'RZZI11.SA', 'RZZR11.SA', 'RSPD11.SA', 'RBDS11.SA', 'RBIR11.SA', 'RBLG11.SA', 'RRCI11.SA', 'FIIP11.SA', 'RBRD11.SA', 'RBTS11.SA', 'RBRF11.SA', 'RCFF11.SA', 'RDCI11.SA', 'RDLI11.SA', 'SHIP11.SA', 'RBRL11.SA', 'RBRX11.SA', 'RPRI11.SA', 'TOPP11.SA', 'RMAI11.SA', 'RINV11.SA', 'RECD11.SA', 'RECM11.SA', 'RBHG11.SA', 'RBHY11.SA', 'RBVO11.SA', 'RBFF11.SA', 'RBOP11.SA', 'RBRS11.SA', 'RZAK11.SA', 'RZAT11.SA', 'RZLC11.SA', 'RCKF11.SA', 'SADI11.SA', 'SAPI11.SA', 'SARE11.SA', 'FISD11.SA', 'SEQR11.SA', 'WPLZ11.SA', 'REIT11.SA', 'SJAU11.SA', 'SOLR11.SA', 'SPTW11.SA', 'SPAF11.SA', 'LTMT11.SA', 'DVLP11.SA', 'DVLT11.SA', 'PMFO11.SA', 'SPGM11.SA', 'SPXG11.SA', 'SPXL11.SA', 'STRX11.SA', 'SNFF11.SA', 'SNLG11.SA', 'SNME11.SA', 'SNCI11.SA', 'SPMO11.SA', 'TELD11.SA', 'TELM11.SA', 'TEPP11.SA', 'TSER11.SA', 'TVRI11.SA', 'VOTS11.SA', 'TJKB11.SA', 'TORD11.SA', 'TSNC11.SA', 'TCPF11.SA', 'TRXY11.SA', 'TRXF11.SA', 'TRXB11.SA', 'URHF11.SA', 'URPR11.SA', 'VVCO11.SA', 'VVMR11.SA', 'VVCR11.SA', 'VVRI11.SA', 'VGIR11.SA', 'VGIP11.SA', 'VGII11.SA', 'VGHF11.SA', 'VGRI11.SA', 'QAGR11.SA', 'BLMO11.SA', 'RVBI11.SA', 'VCJR11.SA', 'VCRR11.SA', 'VCSC11.SA', 'VLJS11.SA', 'SALI11.SA', 'VCTH11.SA', 'VSLH11.SA', 'VIDS11.SA', 'VDSV11.SA', 'VCRI11.SA', 'VIUR11.SA', 'VIFI11.SA', 'VILG11.SA', 'VINO11.SA', 'VISC11.SA', 'WSEC11.SA', 'SPDE11.SA', 'WHGR11.SA', 'XPCM11.SA', 'XPCI11.SA', 'XPIN11.SA', 'XPLG11.SA', 'XPML11.SA', 'XPPR11.SA', 'XPSF11.SA', 'XPCE11.SA', 'YUFI11.SA', 'ZAGH11.SA', 'ZAVC11.SA', 'ZAVI11.SA', 'ZIFI11.SA']\n"
     ]
    }
   ],
   "execution_count": 14
  },
  {
   "metadata": {},
   "cell_type": "markdown",
   "source": "## Captura dos dados dos fundos imobiliários",
   "id": "c2c508356714a0da"
  },
  {
   "metadata": {},
   "cell_type": "markdown",
   "source": "### Arquivo com dados de cotações de fundos",
   "id": "920ffcbb797c0d89"
  },
  {
   "metadata": {
    "ExecuteTime": {
     "end_time": "2025-02-17T23:04:38.622854Z",
     "start_time": "2025-02-17T22:59:48.721212Z"
    }
   },
   "cell_type": "code",
   "source": [
    "# Consolidar o mapa de cotações\n",
    "if configs.processar_cotacoes == True:\n",
    "    todas_as_cotacoes = compilar_cotacoes_dos_ativos(lista_de_fundos_imobiliarios, configs.data_inicial,\n",
    "                                                     configs.data_final)\n",
    "    todas_as_cotacoes.to_csv(configs.arquivo_compilado_cotacoes, index=False)\n",
    "    todas_as_cotacoes.head()"
   ],
   "id": "9927ef2b6946ab4d",
   "outputs": [
    {
     "name": "stdout",
     "output_type": "stream",
     "text": [
      "YF.download() has changed argument auto_adjust default to True\n"
     ]
    },
    {
     "name": "stderr",
     "output_type": "stream",
     "text": [
      "[*********************100%***********************]  1 of 1 completed\n",
      "[*********************100%***********************]  1 of 1 completed\n",
      "[*********************100%***********************]  1 of 1 completed\n",
      "[*********************100%***********************]  1 of 1 completed\n",
      "\n",
      "1 Failed download:\n",
      "['ALZM11.SA']: YFPricesMissingError('possibly delisted; no price data found  (1h 2025-01-01 -> 2025-02-17)')\n"
     ]
    },
    {
     "name": "stdout",
     "output_type": "stream",
     "text": [
      "Não foi possível obter dados para o ativo ALZM11.SA\n"
     ]
    },
    {
     "name": "stderr",
     "output_type": "stream",
     "text": [
      "[*********************100%***********************]  1 of 1 completed\n",
      "\n",
      "1 Failed download:\n",
      "['MTOF11.SA']: YFTzMissingError('possibly delisted; no timezone found')\n"
     ]
    },
    {
     "name": "stdout",
     "output_type": "stream",
     "text": [
      "Não foi possível obter dados para o ativo MTOF11.SA\n"
     ]
    },
    {
     "name": "stderr",
     "output_type": "stream",
     "text": [
      "[*********************100%***********************]  1 of 1 completed\n",
      "\n",
      "1 Failed download:\n",
      "['BICR11.SA']: YFTzMissingError('possibly delisted; no timezone found')\n",
      "[*********************100%***********************]  1 of 1 completed"
     ]
    },
    {
     "name": "stdout",
     "output_type": "stream",
     "text": [
      "Não foi possível obter dados para o ativo BICR11.SA\n"
     ]
    },
    {
     "name": "stderr",
     "output_type": "stream",
     "text": [
      "\n",
      "[*********************100%***********************]  1 of 1 completed\n",
      "\n",
      "1 Failed download:\n",
      "['AURB11.SA']: YFPricesMissingError('possibly delisted; no price data found  (1h 2025-01-01 -> 2025-02-17)')\n"
     ]
    },
    {
     "name": "stdout",
     "output_type": "stream",
     "text": [
      "Não foi possível obter dados para o ativo AURB11.SA\n"
     ]
    },
    {
     "name": "stderr",
     "output_type": "stream",
     "text": [
      "[*********************100%***********************]  1 of 1 completed\n",
      "[*********************100%***********************]  1 of 1 completed\n",
      "\n",
      "1 Failed download:\n",
      "['APXU11.SA']: YFTzMissingError('possibly delisted; no timezone found')\n"
     ]
    },
    {
     "name": "stdout",
     "output_type": "stream",
     "text": [
      "Não foi possível obter dados para o ativo APXU11.SA\n"
     ]
    },
    {
     "name": "stderr",
     "output_type": "stream",
     "text": [
      "[*********************100%***********************]  1 of 1 completed\n",
      "[*********************100%***********************]  1 of 1 completed\n",
      "[*********************100%***********************]  1 of 1 completed\n",
      "[*********************100%***********************]  1 of 1 completed\n",
      "\n",
      "1 Failed download:\n",
      "['AZPE11.SA']: YFTzMissingError('possibly delisted; no timezone found')\n"
     ]
    },
    {
     "name": "stdout",
     "output_type": "stream",
     "text": [
      "Não foi possível obter dados para o ativo AZPE11.SA\n"
     ]
    },
    {
     "name": "stderr",
     "output_type": "stream",
     "text": [
      "[*********************100%***********************]  1 of 1 completed\n",
      "[*********************100%***********************]  1 of 1 completed\n",
      "[*********************100%***********************]  1 of 1 completed\n",
      "[*********************100%***********************]  1 of 1 completed\n",
      "[*********************100%***********************]  1 of 1 completed\n",
      "\n",
      "1 Failed download:\n",
      "['BZEL11.SA']: YFTzMissingError('possibly delisted; no timezone found')\n"
     ]
    },
    {
     "name": "stdout",
     "output_type": "stream",
     "text": [
      "Não foi possível obter dados para o ativo BZEL11.SA\n"
     ]
    },
    {
     "name": "stderr",
     "output_type": "stream",
     "text": [
      "[*********************100%***********************]  1 of 1 completed\n",
      "\n",
      "1 Failed download:\n",
      "['BPDR11.SA']: YFTzMissingError('possibly delisted; no timezone found')\n"
     ]
    },
    {
     "name": "stdout",
     "output_type": "stream",
     "text": [
      "Não foi possível obter dados para o ativo BPDR11.SA\n"
     ]
    },
    {
     "name": "stderr",
     "output_type": "stream",
     "text": [
      "[*********************100%***********************]  1 of 1 completed\n",
      "\n",
      "1 Failed download:\n",
      "['BPLC11.SA']: YFTzMissingError('possibly delisted; no timezone found')\n"
     ]
    },
    {
     "name": "stdout",
     "output_type": "stream",
     "text": [
      "Não foi possível obter dados para o ativo BPLC11.SA\n"
     ]
    },
    {
     "name": "stderr",
     "output_type": "stream",
     "text": [
      "[*********************100%***********************]  1 of 1 completed\n",
      "[*********************100%***********************]  1 of 1 completed\n",
      "[*********************100%***********************]  1 of 1 completed\n",
      "[*********************100%***********************]  1 of 1 completed\n",
      "\n",
      "1 Failed download:\n",
      "['BBIM11.SA']: YFPricesMissingError('possibly delisted; no price data found  (1h 2025-01-01 -> 2025-02-17)')\n",
      "[*********************100%***********************]  1 of 1 completed\n"
     ]
    },
    {
     "name": "stdout",
     "output_type": "stream",
     "text": [
      "Não foi possível obter dados para o ativo BBIM11.SA\n"
     ]
    },
    {
     "name": "stderr",
     "output_type": "stream",
     "text": [
      "[*********************100%***********************]  1 of 1 completed\n",
      "[*********************100%***********************]  1 of 1 completed\n",
      "[*********************100%***********************]  1 of 1 completed\n",
      "[*********************100%***********************]  1 of 1 completed\n",
      "[*********************100%***********************]  1 of 1 completed\n",
      "\n",
      "1 Failed download:\n",
      "['BRSE11.SA']: YFTzMissingError('possibly delisted; no timezone found')\n"
     ]
    },
    {
     "name": "stdout",
     "output_type": "stream",
     "text": [
      "Não foi possível obter dados para o ativo BRSE11.SA\n"
     ]
    },
    {
     "name": "stderr",
     "output_type": "stream",
     "text": [
      "[*********************100%***********************]  1 of 1 completed\n",
      "[*********************100%***********************]  1 of 1 completed\n",
      "[*********************100%***********************]  1 of 1 completed\n",
      "\n",
      "1 Failed download:\n",
      "['RTEL11.SA']: YFTzMissingError('possibly delisted; no timezone found')\n",
      "[*********************100%***********************]  1 of 1 completed"
     ]
    },
    {
     "name": "stdout",
     "output_type": "stream",
     "text": [
      "Não foi possível obter dados para o ativo RTEL11.SA\n"
     ]
    },
    {
     "name": "stderr",
     "output_type": "stream",
     "text": [
      "\n",
      "[*********************100%***********************]  1 of 1 completed\n",
      "\n",
      "1 Failed download:\n",
      "['BRCD11.SA']: YFTzMissingError('possibly delisted; no timezone found')\n"
     ]
    },
    {
     "name": "stdout",
     "output_type": "stream",
     "text": [
      "Não foi possível obter dados para o ativo BRCD11.SA\n"
     ]
    },
    {
     "name": "stderr",
     "output_type": "stream",
     "text": [
      "[*********************100%***********************]  1 of 1 completed\n",
      "[*********************100%***********************]  1 of 1 completed\n",
      "[*********************100%***********************]  1 of 1 completed\n",
      "[*********************100%***********************]  1 of 1 completed\n",
      "[*********************100%***********************]  1 of 1 completed\n",
      "[*********************100%***********************]  1 of 1 completed\n",
      "[*********************100%***********************]  1 of 1 completed\n",
      "\n",
      "1 Failed download:\n",
      "['BIPE11.SA']: YFPricesMissingError('possibly delisted; no price data found  (1h 2025-01-01 -> 2025-02-17)')\n"
     ]
    },
    {
     "name": "stdout",
     "output_type": "stream",
     "text": [
      "Não foi possível obter dados para o ativo BIPE11.SA\n"
     ]
    },
    {
     "name": "stderr",
     "output_type": "stream",
     "text": [
      "[*********************100%***********************]  1 of 1 completed\n",
      "\n",
      "1 Failed download:\n",
      "['BRIX11.SA']: YFPricesMissingError('possibly delisted; no price data found  (1h 2025-01-01 -> 2025-02-17)')\n",
      "[*********************100%***********************]  1 of 1 completed"
     ]
    },
    {
     "name": "stdout",
     "output_type": "stream",
     "text": [
      "Não foi possível obter dados para o ativo BRIX11.SA\n"
     ]
    },
    {
     "name": "stderr",
     "output_type": "stream",
     "text": [
      "\n",
      "[*********************100%***********************]  1 of 1 completed\n",
      "\n",
      "1 Failed download:\n",
      "['BETW11.SA']: YFTzMissingError('possibly delisted; no timezone found')\n"
     ]
    },
    {
     "name": "stdout",
     "output_type": "stream",
     "text": [
      "Não foi possível obter dados para o ativo BETW11.SA\n"
     ]
    },
    {
     "name": "stderr",
     "output_type": "stream",
     "text": [
      "[*********************100%***********************]  1 of 1 completed\n",
      "[*********************100%***********************]  1 of 1 completed\n",
      "[*********************100%***********************]  1 of 1 completed\n",
      "[*********************100%***********************]  1 of 1 completed\n",
      "[*********************100%***********************]  1 of 1 completed\n",
      "[*********************100%***********************]  1 of 1 completed\n",
      "\n",
      "1 Failed download:\n",
      "['BTWR11.SA']: YFPricesMissingError('possibly delisted; no price data found  (1h 2025-01-01 -> 2025-02-17)')\n"
     ]
    },
    {
     "name": "stdout",
     "output_type": "stream",
     "text": [
      "Não foi possível obter dados para o ativo BTWR11.SA\n"
     ]
    },
    {
     "name": "stderr",
     "output_type": "stream",
     "text": [
      "[*********************100%***********************]  1 of 1 completed\n",
      "\n",
      "1 Failed download:\n",
      "['BTSG11.SA']: YFPricesMissingError('possibly delisted; no price data found  (1h 2025-01-01 -> 2025-02-17)')\n",
      "[*********************100%***********************]  1 of 1 completed"
     ]
    },
    {
     "name": "stdout",
     "output_type": "stream",
     "text": [
      "Não foi possível obter dados para o ativo BTSG11.SA\n"
     ]
    },
    {
     "name": "stderr",
     "output_type": "stream",
     "text": [
      "\n",
      "\n",
      "1 Failed download:\n",
      "['BTSI11.SA']: YFPricesMissingError('possibly delisted; no price data found  (1h 2025-01-01 -> 2025-02-17)')\n"
     ]
    },
    {
     "name": "stdout",
     "output_type": "stream",
     "text": [
      "Não foi possível obter dados para o ativo BTSI11.SA\n"
     ]
    },
    {
     "name": "stderr",
     "output_type": "stream",
     "text": [
      "[*********************100%***********************]  1 of 1 completed\n",
      "[*********************100%***********************]  1 of 1 completed\n",
      "[*********************100%***********************]  1 of 1 completed\n",
      "[*********************100%***********************]  1 of 1 completed\n",
      "\n",
      "1 Failed download:\n",
      "['CCVA11.SA']: YFPricesMissingError('possibly delisted; no price data found  (1h 2025-01-01 -> 2025-02-17)')\n"
     ]
    },
    {
     "name": "stdout",
     "output_type": "stream",
     "text": [
      "Não foi possível obter dados para o ativo CCVA11.SA\n"
     ]
    },
    {
     "name": "stderr",
     "output_type": "stream",
     "text": [
      "[*********************100%***********************]  1 of 1 completed\n",
      "\n",
      "1 Failed download:\n",
      "['EVBI11.SA']: YFTzMissingError('possibly delisted; no timezone found')\n"
     ]
    },
    {
     "name": "stdout",
     "output_type": "stream",
     "text": [
      "Não foi possível obter dados para o ativo EVBI11.SA\n"
     ]
    },
    {
     "name": "stderr",
     "output_type": "stream",
     "text": [
      "[*********************100%***********************]  1 of 1 completed\n",
      "[*********************100%***********************]  1 of 1 completed\n",
      "[*********************100%***********************]  1 of 1 completed\n",
      "[*********************100%***********************]  1 of 1 completed\n",
      "[*********************100%***********************]  1 of 1 completed\n",
      "[*********************100%***********************]  1 of 1 completed\n",
      "[*********************100%***********************]  1 of 1 completed\n",
      "[*********************100%***********************]  1 of 1 completed\n",
      "[*********************100%***********************]  1 of 1 completed\n",
      "[*********************100%***********************]  1 of 1 completed\n",
      "[*********************100%***********************]  1 of 1 completed\n",
      "[*********************100%***********************]  1 of 1 completed\n",
      "[*********************100%***********************]  1 of 1 completed\n",
      "\n",
      "1 Failed download:\n",
      "['CIXM11.SA']: YFTzMissingError('possibly delisted; no timezone found')\n"
     ]
    },
    {
     "name": "stdout",
     "output_type": "stream",
     "text": [
      "Não foi possível obter dados para o ativo CIXM11.SA\n"
     ]
    },
    {
     "name": "stderr",
     "output_type": "stream",
     "text": [
      "[*********************100%***********************]  1 of 1 completed\n",
      "\n",
      "1 Failed download:\n",
      "['CIXR11.SA']: YFTzMissingError('possibly delisted; no timezone found')\n"
     ]
    },
    {
     "name": "stdout",
     "output_type": "stream",
     "text": [
      "Não foi possível obter dados para o ativo CIXR11.SA\n"
     ]
    },
    {
     "name": "stderr",
     "output_type": "stream",
     "text": [
      "[*********************100%***********************]  1 of 1 completed\n",
      "[*********************100%***********************]  1 of 1 completed\n",
      "\n",
      "1 Failed download:\n",
      "['CSMC11.SA']: YFTzMissingError('possibly delisted; no timezone found')\n"
     ]
    },
    {
     "name": "stdout",
     "output_type": "stream",
     "text": [
      "Não foi possível obter dados para o ativo CSMC11.SA\n"
     ]
    },
    {
     "name": "stderr",
     "output_type": "stream",
     "text": [
      "[*********************100%***********************]  1 of 1 completed\n",
      "[*********************100%***********************]  1 of 1 completed\n",
      "\n",
      "1 Failed download:\n",
      "['CVPR11.SA']: YFTzMissingError('possibly delisted; no timezone found')\n"
     ]
    },
    {
     "name": "stdout",
     "output_type": "stream",
     "text": [
      "Não foi possível obter dados para o ativo CVPR11.SA\n"
     ]
    },
    {
     "name": "stderr",
     "output_type": "stream",
     "text": [
      "[*********************100%***********************]  1 of 1 completed\n",
      "[*********************100%***********************]  1 of 1 completed\n",
      "\n",
      "1 Failed download:\n",
      "['CYLD11.SA']: YFPricesMissingError('possibly delisted; no price data found  (1h 2025-01-01 -> 2025-02-17)')\n",
      "[*********************100%***********************]  1 of 1 completed\n"
     ]
    },
    {
     "name": "stdout",
     "output_type": "stream",
     "text": [
      "Não foi possível obter dados para o ativo CYLD11.SA\n"
     ]
    },
    {
     "name": "stderr",
     "output_type": "stream",
     "text": [
      "[*********************100%***********************]  1 of 1 completed\n",
      "[*********************100%***********************]  1 of 1 completed\n",
      "[*********************100%***********************]  1 of 1 completed\n",
      "\n",
      "1 Failed download:\n",
      "['DLMT11.SA']: YFTzMissingError('possibly delisted; no timezone found')\n"
     ]
    },
    {
     "name": "stdout",
     "output_type": "stream",
     "text": [
      "Não foi possível obter dados para o ativo DLMT11.SA\n"
     ]
    },
    {
     "name": "stderr",
     "output_type": "stream",
     "text": [
      "[*********************100%***********************]  1 of 1 completed\n",
      "[*********************100%***********************]  1 of 1 completed\n",
      "[*********************100%***********************]  1 of 1 completed\n",
      "[*********************100%***********************]  1 of 1 completed\n",
      "[*********************100%***********************]  1 of 1 completed\n",
      "\n",
      "1 Failed download:\n",
      "['EDGE11.SA']: YFTzMissingError('possibly delisted; no timezone found')\n",
      "[*********************100%***********************]  1 of 1 completed"
     ]
    },
    {
     "name": "stdout",
     "output_type": "stream",
     "text": [
      "Não foi possível obter dados para o ativo EDGE11.SA\n"
     ]
    },
    {
     "name": "stderr",
     "output_type": "stream",
     "text": [
      "\n",
      "[*********************100%***********************]  1 of 1 completed\n",
      "[*********************100%***********************]  1 of 1 completed\n",
      "[*********************100%***********************]  1 of 1 completed\n",
      "\n",
      "1 Failed download:\n",
      "['ERCR11.SA']: YFPricesMissingError('possibly delisted; no price data found  (1h 2025-01-01 -> 2025-02-17)')\n"
     ]
    },
    {
     "name": "stdout",
     "output_type": "stream",
     "text": [
      "Não foi possível obter dados para o ativo ERCR11.SA\n"
     ]
    },
    {
     "name": "stderr",
     "output_type": "stream",
     "text": [
      "[*********************100%***********************]  1 of 1 completed\n",
      "[*********************100%***********************]  1 of 1 completed\n",
      "[*********************100%***********************]  1 of 1 completed\n",
      "[*********************100%***********************]  1 of 1 completed\n",
      "[*********************100%***********************]  1 of 1 completed\n",
      "\n",
      "1 Failed download:\n",
      "['FAGL11.SA']: YFTzMissingError('possibly delisted; no timezone found')\n"
     ]
    },
    {
     "name": "stdout",
     "output_type": "stream",
     "text": [
      "Não foi possível obter dados para o ativo FAGL11.SA\n"
     ]
    },
    {
     "name": "stderr",
     "output_type": "stream",
     "text": [
      "[*********************100%***********************]  1 of 1 completed\n",
      "\n",
      "1 Failed download:\n",
      "['FARU11.SA']: YFTzMissingError('possibly delisted; no timezone found')\n",
      "[*********************100%***********************]  1 of 1 completed\n"
     ]
    },
    {
     "name": "stdout",
     "output_type": "stream",
     "text": [
      "Não foi possível obter dados para o ativo FARU11.SA\n"
     ]
    },
    {
     "name": "stderr",
     "output_type": "stream",
     "text": [
      "[*********************100%***********************]  1 of 1 completed\n",
      "[*********************100%***********************]  1 of 1 completed\n",
      "\n",
      "1 Failed download:\n",
      "['BMII11.SA']: YFPricesMissingError('possibly delisted; no price data found  (1h 2025-01-01 -> 2025-02-17)')\n"
     ]
    },
    {
     "name": "stdout",
     "output_type": "stream",
     "text": [
      "Não foi possível obter dados para o ativo BMII11.SA\n"
     ]
    },
    {
     "name": "stderr",
     "output_type": "stream",
     "text": [
      "[*********************100%***********************]  1 of 1 completed\n",
      "\n",
      "1 Failed download:\n",
      "['FIIC11.SA']: YFTzMissingError('possibly delisted; no timezone found')\n"
     ]
    },
    {
     "name": "stdout",
     "output_type": "stream",
     "text": [
      "Não foi possível obter dados para o ativo FIIC11.SA\n"
     ]
    },
    {
     "name": "stderr",
     "output_type": "stream",
     "text": [
      "[*********************100%***********************]  1 of 1 completed\n",
      "[*********************100%***********************]  1 of 1 completed\n",
      "[*********************100%***********************]  1 of 1 completed\n",
      "[*********************100%***********************]  1 of 1 completed\n",
      "\n",
      "1 Failed download:\n",
      "['IDGR11.SA']: YFPricesMissingError('possibly delisted; no price data found  (1h 2025-01-01 -> 2025-02-17)')\n"
     ]
    },
    {
     "name": "stdout",
     "output_type": "stream",
     "text": [
      "Não foi possível obter dados para o ativo IDGR11.SA\n"
     ]
    },
    {
     "name": "stderr",
     "output_type": "stream",
     "text": [
      "[*********************100%***********************]  1 of 1 completed\n",
      "\n",
      "1 Failed download:\n",
      "['IDUA11.SA']: YFTzMissingError('possibly delisted; no timezone found')\n"
     ]
    },
    {
     "name": "stdout",
     "output_type": "stream",
     "text": [
      "Não foi possível obter dados para o ativo IDUA11.SA\n"
     ]
    },
    {
     "name": "stderr",
     "output_type": "stream",
     "text": [
      "[*********************100%***********************]  1 of 1 completed\n",
      "[*********************100%***********************]  1 of 1 completed\n",
      "[*********************100%***********************]  1 of 1 completed\n",
      "[*********************100%***********************]  1 of 1 completed\n",
      "[*********************100%***********************]  1 of 1 completed\n",
      "[*********************100%***********************]  1 of 1 completed\n",
      "[*********************100%***********************]  1 of 1 completed\n",
      "[*********************100%***********************]  1 of 1 completed\n",
      "[*********************100%***********************]  1 of 1 completed\n",
      "[*********************100%***********************]  1 of 1 completed\n",
      "[*********************100%***********************]  1 of 1 completed\n",
      "[*********************100%***********************]  1 of 1 completed\n",
      "[*********************100%***********************]  1 of 1 completed\n",
      "[*********************100%***********************]  1 of 1 completed\n",
      "[*********************100%***********************]  1 of 1 completed\n",
      "[*********************100%***********************]  1 of 1 completed\n",
      "[*********************100%***********************]  1 of 1 completed\n",
      "[*********************100%***********************]  1 of 1 completed\n",
      "[*********************100%***********************]  1 of 1 completed\n",
      "\n",
      "1 Failed download:\n",
      "['PATB11.SA']: YFTzMissingError('possibly delisted; no timezone found')\n"
     ]
    },
    {
     "name": "stdout",
     "output_type": "stream",
     "text": [
      "Não foi possível obter dados para o ativo PATB11.SA\n"
     ]
    },
    {
     "name": "stderr",
     "output_type": "stream",
     "text": [
      "[*********************100%***********************]  1 of 1 completed\n",
      "[*********************100%***********************]  1 of 1 completed\n",
      "[*********************100%***********************]  1 of 1 completed\n",
      "[*********************100%***********************]  1 of 1 completed\n",
      "[*********************100%***********************]  1 of 1 completed\n",
      "[*********************100%***********************]  1 of 1 completed\n",
      "[*********************100%***********************]  1 of 1 completed\n",
      "[*********************100%***********************]  1 of 1 completed\n",
      "[*********************100%***********************]  1 of 1 completed\n",
      "[*********************100%***********************]  1 of 1 completed\n",
      "\n",
      "1 Failed download:\n",
      "['BRHT11.SA']: YFTzMissingError('possibly delisted; no timezone found')\n"
     ]
    },
    {
     "name": "stdout",
     "output_type": "stream",
     "text": [
      "Não foi possível obter dados para o ativo BRHT11.SA\n"
     ]
    },
    {
     "name": "stderr",
     "output_type": "stream",
     "text": [
      "[*********************100%***********************]  1 of 1 completed\n",
      "[*********************100%***********************]  1 of 1 completed\n",
      "\n",
      "1 Failed download:\n",
      "['BVAR11.SA']: YFPricesMissingError('possibly delisted; no price data found  (1h 2025-01-01 -> 2025-02-17)')\n"
     ]
    },
    {
     "name": "stdout",
     "output_type": "stream",
     "text": [
      "Não foi possível obter dados para o ativo BVAR11.SA\n"
     ]
    },
    {
     "name": "stderr",
     "output_type": "stream",
     "text": [
      "[*********************100%***********************]  1 of 1 completed\n",
      "[*********************100%***********************]  1 of 1 completed\n",
      "[*********************100%***********************]  1 of 1 completed\n",
      "[*********************100%***********************]  1 of 1 completed\n",
      "[*********************100%***********************]  1 of 1 completed\n",
      "[*********************100%***********************]  1 of 1 completed\n",
      "[*********************100%***********************]  1 of 1 completed\n",
      "\n",
      "1 Failed download:\n",
      "['CJFI11.SA']: YFTzMissingError('possibly delisted; no timezone found')\n"
     ]
    },
    {
     "name": "stdout",
     "output_type": "stream",
     "text": [
      "Não foi possível obter dados para o ativo CJFI11.SA\n"
     ]
    },
    {
     "name": "stderr",
     "output_type": "stream",
     "text": [
      "[*********************100%***********************]  1 of 1 completed\n",
      "[*********************100%***********************]  1 of 1 completed\n",
      "[*********************100%***********************]  1 of 1 completed\n",
      "[*********************100%***********************]  1 of 1 completed\n",
      "[*********************100%***********************]  1 of 1 completed\n",
      "\n",
      "1 Failed download:\n",
      "['EZTB11.SA']: YFTzMissingError('possibly delisted; no timezone found')\n"
     ]
    },
    {
     "name": "stdout",
     "output_type": "stream",
     "text": [
      "Não foi possível obter dados para o ativo EZTB11.SA\n"
     ]
    },
    {
     "name": "stderr",
     "output_type": "stream",
     "text": [
      "[*********************100%***********************]  1 of 1 completed\n",
      "[*********************100%***********************]  1 of 1 completed\n",
      "[*********************100%***********************]  1 of 1 completed\n",
      "\n",
      "1 Failed download:\n",
      "['HERM11.SA']: YFTzMissingError('possibly delisted; no timezone found')\n"
     ]
    },
    {
     "name": "stdout",
     "output_type": "stream",
     "text": [
      "Não foi possível obter dados para o ativo HERM11.SA\n"
     ]
    },
    {
     "name": "stderr",
     "output_type": "stream",
     "text": [
      "[*********************100%***********************]  1 of 1 completed\n",
      "[*********************100%***********************]  1 of 1 completed\n",
      "[*********************100%***********************]  1 of 1 completed\n",
      "[*********************100%***********************]  1 of 1 completed\n",
      "\n",
      "1 Failed download:\n",
      "['FINF11.SA']: YFTzMissingError('possibly delisted; no timezone found')\n"
     ]
    },
    {
     "name": "stdout",
     "output_type": "stream",
     "text": [
      "Não foi possível obter dados para o ativo FINF11.SA\n"
     ]
    },
    {
     "name": "stderr",
     "output_type": "stream",
     "text": [
      "[*********************100%***********************]  1 of 1 completed\n",
      "\n",
      "1 Failed download:\n",
      "['JKDF11.SA']: YFTzMissingError('possibly delisted; no timezone found')\n"
     ]
    },
    {
     "name": "stdout",
     "output_type": "stream",
     "text": [
      "Não foi possível obter dados para o ativo JKDF11.SA\n"
     ]
    },
    {
     "name": "stderr",
     "output_type": "stream",
     "text": [
      "[*********************100%***********************]  1 of 1 completed\n",
      "\n",
      "1 Failed download:\n",
      "['JKEF11.SA']: YFTzMissingError('possibly delisted; no timezone found')\n"
     ]
    },
    {
     "name": "stdout",
     "output_type": "stream",
     "text": [
      "Não foi possível obter dados para o ativo JKEF11.SA\n"
     ]
    },
    {
     "name": "stderr",
     "output_type": "stream",
     "text": [
      "[*********************100%***********************]  1 of 1 completed\n",
      "[*********************100%***********************]  1 of 1 completed\n",
      "\n",
      "1 Failed download:\n",
      "['MVFI11.SA']: YFTzMissingError('possibly delisted; no timezone found')\n"
     ]
    },
    {
     "name": "stdout",
     "output_type": "stream",
     "text": [
      "Não foi possível obter dados para o ativo MVFI11.SA\n"
     ]
    },
    {
     "name": "stderr",
     "output_type": "stream",
     "text": [
      "[*********************100%***********************]  1 of 1 completed\n",
      "[*********************100%***********************]  1 of 1 completed\n",
      "[*********************100%***********************]  1 of 1 completed\n",
      "[*********************100%***********************]  1 of 1 completed\n",
      "\n",
      "1 Failed download:\n",
      "['ESTQ11.SA']: YFTzMissingError('possibly delisted; no timezone found')\n"
     ]
    },
    {
     "name": "stdout",
     "output_type": "stream",
     "text": [
      "Não foi possível obter dados para o ativo ESTQ11.SA\n"
     ]
    },
    {
     "name": "stderr",
     "output_type": "stream",
     "text": [
      "[*********************100%***********************]  1 of 1 completed\n",
      "\n",
      "1 Failed download:\n",
      "['VPSI11.SA']: YFPricesMissingError('possibly delisted; no price data found  (1h 2025-01-01 -> 2025-02-17)')\n"
     ]
    },
    {
     "name": "stdout",
     "output_type": "stream",
     "text": [
      "Não foi possível obter dados para o ativo VPSI11.SA\n"
     ]
    },
    {
     "name": "stderr",
     "output_type": "stream",
     "text": [
      "[*********************100%***********************]  1 of 1 completed\n",
      "[*********************100%***********************]  1 of 1 completed\n",
      "\n",
      "1 Failed download:\n",
      "['QNTS11.SA']: YFTzMissingError('possibly delisted; no timezone found')\n"
     ]
    },
    {
     "name": "stdout",
     "output_type": "stream",
     "text": [
      "Não foi possível obter dados para o ativo QNTS11.SA\n"
     ]
    },
    {
     "name": "stderr",
     "output_type": "stream",
     "text": [
      "[*********************100%***********************]  1 of 1 completed\n",
      "[*********************100%***********************]  1 of 1 completed\n",
      "[*********************100%***********************]  1 of 1 completed\n",
      "\n",
      "1 Failed download:\n",
      "['ANGC11.SA']: YFTzMissingError('possibly delisted; no timezone found')\n"
     ]
    },
    {
     "name": "stdout",
     "output_type": "stream",
     "text": [
      "Não foi possível obter dados para o ativo ANGC11.SA\n"
     ]
    },
    {
     "name": "stderr",
     "output_type": "stream",
     "text": [
      "[*********************100%***********************]  1 of 1 completed\n",
      "[*********************100%***********************]  1 of 1 completed\n",
      "[*********************100%***********************]  1 of 1 completed\n",
      "[*********************100%***********************]  1 of 1 completed\n",
      "[*********************100%***********************]  1 of 1 completed\n",
      "[*********************100%***********************]  1 of 1 completed\n",
      "[*********************100%***********************]  1 of 1 completed\n",
      "\n",
      "1 Failed download:\n",
      "['SFFI11.SA']: YFTzMissingError('possibly delisted; no timezone found')\n"
     ]
    },
    {
     "name": "stdout",
     "output_type": "stream",
     "text": [
      "Não foi possível obter dados para o ativo SFFI11.SA\n"
     ]
    },
    {
     "name": "stderr",
     "output_type": "stream",
     "text": [
      "[*********************100%***********************]  1 of 1 completed\n",
      "[*********************100%***********************]  1 of 1 completed\n",
      "[*********************100%***********************]  1 of 1 completed\n",
      "[*********************100%***********************]  1 of 1 completed\n",
      "\n",
      "1 Failed download:\n",
      "['TGRU11.SA']: YFTzMissingError('possibly delisted; no timezone found')\n"
     ]
    },
    {
     "name": "stdout",
     "output_type": "stream",
     "text": [
      "Não foi possível obter dados para o ativo TGRU11.SA\n"
     ]
    },
    {
     "name": "stderr",
     "output_type": "stream",
     "text": [
      "[*********************100%***********************]  1 of 1 completed\n",
      "\n",
      "1 Failed download:\n",
      "['TMFI11.SA']: YFTzMissingError('possibly delisted; no timezone found')\n",
      "[*********************100%***********************]  1 of 1 completed\n"
     ]
    },
    {
     "name": "stdout",
     "output_type": "stream",
     "text": [
      "Não foi possível obter dados para o ativo TMFI11.SA\n"
     ]
    },
    {
     "name": "stderr",
     "output_type": "stream",
     "text": [
      "[*********************100%***********************]  1 of 1 completed\n",
      "\n",
      "1 Failed download:\n",
      "['VERE11.SA']: YFPricesMissingError('possibly delisted; no price data found  (1h 2025-01-01 -> 2025-02-17)')\n"
     ]
    },
    {
     "name": "stdout",
     "output_type": "stream",
     "text": [
      "Não foi possível obter dados para o ativo VERE11.SA\n"
     ]
    },
    {
     "name": "stderr",
     "output_type": "stream",
     "text": [
      "[*********************100%***********************]  1 of 1 completed\n",
      "[*********************100%***********************]  1 of 1 completed\n",
      "[*********************100%***********************]  1 of 1 completed\n",
      "\n",
      "1 Failed download:\n",
      "['FBTS11.SA']: YFTzMissingError('possibly delisted; no timezone found')\n"
     ]
    },
    {
     "name": "stdout",
     "output_type": "stream",
     "text": [
      "Não foi possível obter dados para o ativo FBTS11.SA\n"
     ]
    },
    {
     "name": "stderr",
     "output_type": "stream",
     "text": [
      "[*********************100%***********************]  1 of 1 completed\n",
      "[*********************100%***********************]  1 of 1 completed\n",
      "[*********************100%***********************]  1 of 1 completed\n",
      "\n",
      "1 Failed download:\n",
      "['IDFI11.SA']: YFPricesMissingError('possibly delisted; no price data found  (1h 2025-01-01 -> 2025-02-17)')\n"
     ]
    },
    {
     "name": "stdout",
     "output_type": "stream",
     "text": [
      "Não foi possível obter dados para o ativo IDFI11.SA\n"
     ]
    },
    {
     "name": "stderr",
     "output_type": "stream",
     "text": [
      "[*********************100%***********************]  1 of 1 completed\n",
      "\n",
      "1 Failed download:\n",
      "['FAVM11.SA']: YFTzMissingError('possibly delisted; no timezone found')\n"
     ]
    },
    {
     "name": "stdout",
     "output_type": "stream",
     "text": [
      "Não foi possível obter dados para o ativo FAVM11.SA\n"
     ]
    },
    {
     "name": "stderr",
     "output_type": "stream",
     "text": [
      "[*********************100%***********************]  1 of 1 completed\n",
      "\n",
      "1 Failed download:\n",
      "['FIGV11.SA']: YFTzMissingError('possibly delisted; no timezone found')\n"
     ]
    },
    {
     "name": "stdout",
     "output_type": "stream",
     "text": [
      "Não foi possível obter dados para o ativo FIGV11.SA\n"
     ]
    },
    {
     "name": "stderr",
     "output_type": "stream",
     "text": [
      "[*********************100%***********************]  1 of 1 completed\n",
      "[*********************100%***********************]  1 of 1 completed\n",
      "\n",
      "1 Failed download:\n",
      "['VTPL11.SA']: YFPricesMissingError('possibly delisted; no price data found  (1h 2025-01-01 -> 2025-02-17)')\n"
     ]
    },
    {
     "name": "stdout",
     "output_type": "stream",
     "text": [
      "Não foi possível obter dados para o ativo VTPL11.SA\n"
     ]
    },
    {
     "name": "stderr",
     "output_type": "stream",
     "text": [
      "[*********************100%***********************]  1 of 1 completed\n",
      "[*********************100%***********************]  1 of 1 completed\n",
      "[*********************100%***********************]  1 of 1 completed\n",
      "[*********************100%***********************]  1 of 1 completed\n",
      "\n",
      "1 Failed download:\n",
      "['ATWN11.SA']: YFTzMissingError('possibly delisted; no timezone found')\n"
     ]
    },
    {
     "name": "stdout",
     "output_type": "stream",
     "text": [
      "Não foi possível obter dados para o ativo ATWN11.SA\n"
     ]
    },
    {
     "name": "stderr",
     "output_type": "stream",
     "text": [
      "[*********************100%***********************]  1 of 1 completed\n",
      "[*********************100%***********************]  1 of 1 completed\n",
      "[*********************100%***********************]  1 of 1 completed\n",
      "[*********************100%***********************]  1 of 1 completed\n",
      "[*********************100%***********************]  1 of 1 completed\n",
      "\n",
      "1 Failed download:\n",
      "['RECX11.SA']: YFPricesMissingError('possibly delisted; no price data found  (1h 2025-01-01 -> 2025-02-17)')\n"
     ]
    },
    {
     "name": "stdout",
     "output_type": "stream",
     "text": [
      "Não foi possível obter dados para o ativo RECX11.SA\n"
     ]
    },
    {
     "name": "stderr",
     "output_type": "stream",
     "text": [
      "[*********************100%***********************]  1 of 1 completed\n",
      "[*********************100%***********************]  1 of 1 completed\n",
      "[*********************100%***********************]  1 of 1 completed\n",
      "[*********************100%***********************]  1 of 1 completed\n",
      "\n",
      "1 Failed download:\n",
      "['VTPA11.SA']: YFTzMissingError('possibly delisted; no timezone found')\n"
     ]
    },
    {
     "name": "stdout",
     "output_type": "stream",
     "text": [
      "Não foi possível obter dados para o ativo VTPA11.SA\n"
     ]
    },
    {
     "name": "stderr",
     "output_type": "stream",
     "text": [
      "[*********************100%***********************]  1 of 1 completed\n",
      "\n",
      "1 Failed download:\n",
      "['VTXI11.SA']: YFTzMissingError('possibly delisted; no timezone found')\n"
     ]
    },
    {
     "name": "stdout",
     "output_type": "stream",
     "text": [
      "Não foi possível obter dados para o ativo VTXI11.SA\n"
     ]
    },
    {
     "name": "stderr",
     "output_type": "stream",
     "text": [
      "[*********************100%***********************]  1 of 1 completed\n",
      "\n",
      "1 Failed download:\n",
      "['FTRE11.SA']: YFTzMissingError('possibly delisted; no timezone found')\n"
     ]
    },
    {
     "name": "stdout",
     "output_type": "stream",
     "text": [
      "Não foi possível obter dados para o ativo FTRE11.SA\n"
     ]
    },
    {
     "name": "stderr",
     "output_type": "stream",
     "text": [
      "[*********************100%***********************]  1 of 1 completed\n",
      "\n",
      "1 Failed download:\n",
      "['BCFF11.SA']: YFPricesMissingError('possibly delisted; no price data found  (1h 2025-01-01 -> 2025-02-17)')\n"
     ]
    },
    {
     "name": "stdout",
     "output_type": "stream",
     "text": [
      "Não foi possível obter dados para o ativo BCFF11.SA\n"
     ]
    },
    {
     "name": "stderr",
     "output_type": "stream",
     "text": [
      "[*********************100%***********************]  1 of 1 completed\n",
      "[*********************100%***********************]  1 of 1 completed\n",
      "[*********************100%***********************]  1 of 1 completed\n",
      "\n",
      "1 Failed download:\n",
      "['HRES11.SA']: YFPricesMissingError('possibly delisted; no price data found  (1h 2025-01-01 -> 2025-02-17)')\n"
     ]
    },
    {
     "name": "stdout",
     "output_type": "stream",
     "text": [
      "Não foi possível obter dados para o ativo HRES11.SA\n"
     ]
    },
    {
     "name": "stderr",
     "output_type": "stream",
     "text": [
      "[*********************100%***********************]  1 of 1 completed\n",
      "\n",
      "1 Failed download:\n",
      "['N4V111.SA']: YFTzMissingError('possibly delisted; no timezone found')\n"
     ]
    },
    {
     "name": "stdout",
     "output_type": "stream",
     "text": [
      "Não foi possível obter dados para o ativo N4V111.SA\n"
     ]
    },
    {
     "name": "stderr",
     "output_type": "stream",
     "text": [
      "[*********************100%***********************]  1 of 1 completed\n",
      "[*********************100%***********************]  1 of 1 completed\n",
      "\n",
      "1 Failed download:\n",
      "['VCHG11.SA']: YFTzMissingError('possibly delisted; no timezone found')\n"
     ]
    },
    {
     "name": "stdout",
     "output_type": "stream",
     "text": [
      "Não foi possível obter dados para o ativo VCHG11.SA\n"
     ]
    },
    {
     "name": "stderr",
     "output_type": "stream",
     "text": [
      "[*********************100%***********************]  1 of 1 completed\n",
      "\n",
      "1 Failed download:\n",
      "['FLNR11.SA']: YFTzMissingError('possibly delisted; no timezone found')\n"
     ]
    },
    {
     "name": "stdout",
     "output_type": "stream",
     "text": [
      "Não foi possível obter dados para o ativo FLNR11.SA\n"
     ]
    },
    {
     "name": "stderr",
     "output_type": "stream",
     "text": [
      "[*********************100%***********************]  1 of 1 completed\n",
      "[*********************100%***********************]  1 of 1 completed\n",
      "\n",
      "1 Failed download:\n",
      "['HLMB11.SA']: YFTzMissingError('possibly delisted; no timezone found')\n"
     ]
    },
    {
     "name": "stdout",
     "output_type": "stream",
     "text": [
      "Não foi possível obter dados para o ativo HLMB11.SA\n"
     ]
    },
    {
     "name": "stderr",
     "output_type": "stream",
     "text": [
      "[*********************100%***********************]  1 of 1 completed\n",
      "\n",
      "1 Failed download:\n",
      "['SBCL11.SA']: YFTzMissingError('possibly delisted; no timezone found')\n"
     ]
    },
    {
     "name": "stdout",
     "output_type": "stream",
     "text": [
      "Não foi possível obter dados para o ativo SBCL11.SA\n"
     ]
    },
    {
     "name": "stderr",
     "output_type": "stream",
     "text": [
      "[*********************100%***********************]  1 of 1 completed\n",
      "\n",
      "1 Failed download:\n",
      "['FRHY11.SA']: YFTzMissingError('possibly delisted; no timezone found')\n"
     ]
    },
    {
     "name": "stdout",
     "output_type": "stream",
     "text": [
      "Não foi possível obter dados para o ativo FRHY11.SA\n"
     ]
    },
    {
     "name": "stderr",
     "output_type": "stream",
     "text": [
      "[*********************100%***********************]  1 of 1 completed\n",
      "[*********************100%***********************]  1 of 1 completed\n",
      "\n",
      "1 Failed download:\n",
      "['SPVJ11.SA']: YFTzMissingError('possibly delisted; no timezone found')\n"
     ]
    },
    {
     "name": "stdout",
     "output_type": "stream",
     "text": [
      "Não foi possível obter dados para o ativo SPVJ11.SA\n"
     ]
    },
    {
     "name": "stderr",
     "output_type": "stream",
     "text": [
      "[*********************100%***********************]  1 of 1 completed\n",
      "[*********************100%***********************]  1 of 1 completed\n",
      "[*********************100%***********************]  1 of 1 completed\n",
      "\n",
      "1 Failed download:\n",
      "['HOMS11.SA']: YFTzMissingError('possibly delisted; no timezone found')\n"
     ]
    },
    {
     "name": "stdout",
     "output_type": "stream",
     "text": [
      "Não foi possível obter dados para o ativo HOMS11.SA\n"
     ]
    },
    {
     "name": "stderr",
     "output_type": "stream",
     "text": [
      "[*********************100%***********************]  1 of 1 completed\n",
      "[*********************100%***********************]  1 of 1 completed\n",
      "[*********************100%***********************]  1 of 1 completed\n",
      "\n",
      "1 Failed download:\n",
      "['LKDV11.SA']: YFPricesMissingError('possibly delisted; no price data found  (1h 2025-01-01 -> 2025-02-17)')\n"
     ]
    },
    {
     "name": "stdout",
     "output_type": "stream",
     "text": [
      "Não foi possível obter dados para o ativo LKDV11.SA\n"
     ]
    },
    {
     "name": "stderr",
     "output_type": "stream",
     "text": [
      "[*********************100%***********************]  1 of 1 completed\n",
      "[*********************100%***********************]  1 of 1 completed\n",
      "[*********************100%***********************]  1 of 1 completed\n",
      "[*********************100%***********************]  1 of 1 completed\n",
      "[*********************100%***********************]  1 of 1 completed\n",
      "[*********************100%***********************]  1 of 1 completed\n",
      "\n",
      "1 Failed download:\n",
      "['MINT11.SA']: YFPricesMissingError('possibly delisted; no price data found  (1h 2025-01-01 -> 2025-02-17)')\n"
     ]
    },
    {
     "name": "stdout",
     "output_type": "stream",
     "text": [
      "Não foi possível obter dados para o ativo MINT11.SA\n"
     ]
    },
    {
     "name": "stderr",
     "output_type": "stream",
     "text": [
      "[*********************100%***********************]  1 of 1 completed\n",
      "\n",
      "1 Failed download:\n",
      "['OPTM11.SA']: YFTzMissingError('possibly delisted; no timezone found')\n"
     ]
    },
    {
     "name": "stdout",
     "output_type": "stream",
     "text": [
      "Não foi possível obter dados para o ativo OPTM11.SA\n"
     ]
    },
    {
     "name": "stderr",
     "output_type": "stream",
     "text": [
      "[*********************100%***********************]  1 of 1 completed\n",
      "[*********************100%***********************]  1 of 1 completed\n",
      "[*********************100%***********************]  1 of 1 completed\n",
      "\n",
      "1 Failed download:\n",
      "['TCIN11.SA']: YFPricesMissingError('possibly delisted; no price data found  (1h 2025-01-01 -> 2025-02-17)')\n"
     ]
    },
    {
     "name": "stdout",
     "output_type": "stream",
     "text": [
      "Não foi possível obter dados para o ativo TCIN11.SA\n"
     ]
    },
    {
     "name": "stderr",
     "output_type": "stream",
     "text": [
      "[*********************100%***********************]  1 of 1 completed\n",
      "[*********************100%***********************]  1 of 1 completed\n",
      "[*********************100%***********************]  1 of 1 completed\n",
      "[*********************100%***********************]  1 of 1 completed\n",
      "[*********************100%***********************]  1 of 1 completed\n",
      "[*********************100%***********************]  1 of 1 completed\n",
      "[*********************100%***********************]  1 of 1 completed\n",
      "[*********************100%***********************]  1 of 1 completed\n",
      "[*********************100%***********************]  1 of 1 completed\n",
      "[*********************100%***********************]  1 of 1 completed\n",
      "[*********************100%***********************]  1 of 1 completed\n",
      "\n",
      "1 Failed download:\n",
      "['GRRO11.SA']: YFTzMissingError('possibly delisted; no timezone found')\n"
     ]
    },
    {
     "name": "stdout",
     "output_type": "stream",
     "text": [
      "Não foi possível obter dados para o ativo GRRO11.SA\n"
     ]
    },
    {
     "name": "stderr",
     "output_type": "stream",
     "text": [
      "[*********************100%***********************]  1 of 1 completed\n",
      "[*********************100%***********************]  1 of 1 completed\n",
      "[*********************100%***********************]  1 of 1 completed\n",
      "\n",
      "1 Failed download:\n",
      "['ATCR11.SA']: YFTzMissingError('possibly delisted; no timezone found')\n",
      "[*********************100%***********************]  1 of 1 completed\n"
     ]
    },
    {
     "name": "stdout",
     "output_type": "stream",
     "text": [
      "Não foi possível obter dados para o ativo ATCR11.SA\n"
     ]
    },
    {
     "name": "stderr",
     "output_type": "stream",
     "text": [
      "[*********************100%***********************]  1 of 1 completed\n",
      "[*********************100%***********************]  1 of 1 completed\n",
      "[*********************100%***********************]  1 of 1 completed\n",
      "[*********************100%***********************]  1 of 1 completed\n",
      "[*********************100%***********************]  1 of 1 completed\n",
      "[*********************100%***********************]  1 of 1 completed\n",
      "[*********************100%***********************]  1 of 1 completed\n",
      "\n",
      "1 Failed download:\n",
      "['HCOF11.SA']: YFTzMissingError('possibly delisted; no timezone found')\n"
     ]
    },
    {
     "name": "stdout",
     "output_type": "stream",
     "text": [
      "Não foi possível obter dados para o ativo HCOF11.SA\n"
     ]
    },
    {
     "name": "stderr",
     "output_type": "stream",
     "text": [
      "[*********************100%***********************]  1 of 1 completed\n",
      "[*********************100%***********************]  1 of 1 completed\n",
      "[*********************100%***********************]  1 of 1 completed\n",
      "[*********************100%***********************]  1 of 1 completed\n",
      "[*********************100%***********************]  1 of 1 completed\n",
      "[*********************100%***********************]  1 of 1 completed\n",
      "[*********************100%***********************]  1 of 1 completed\n",
      "[*********************100%***********************]  1 of 1 completed\n",
      "\n",
      "1 Failed download:\n",
      "['SEED11.SA']: YFPricesMissingError('possibly delisted; no price data found  (1h 2025-01-01 -> 2025-02-17)')\n"
     ]
    },
    {
     "name": "stdout",
     "output_type": "stream",
     "text": [
      "Não foi possível obter dados para o ativo SEED11.SA\n"
     ]
    },
    {
     "name": "stderr",
     "output_type": "stream",
     "text": [
      "[*********************100%***********************]  1 of 1 completed\n",
      "[*********************100%***********************]  1 of 1 completed\n",
      "[*********************100%***********************]  1 of 1 completed\n",
      "[*********************100%***********************]  1 of 1 completed\n",
      "[*********************100%***********************]  1 of 1 completed\n",
      "\n",
      "1 Failed download:\n",
      "['HILG11.SA']: YFPricesMissingError('possibly delisted; no price data found  (1h 2025-01-01 -> 2025-02-17)')\n"
     ]
    },
    {
     "name": "stdout",
     "output_type": "stream",
     "text": [
      "Não foi possível obter dados para o ativo HILG11.SA\n"
     ]
    },
    {
     "name": "stderr",
     "output_type": "stream",
     "text": [
      "[*********************100%***********************]  1 of 1 completed\n",
      "[*********************100%***********************]  1 of 1 completed\n",
      "[*********************100%***********************]  1 of 1 completed\n",
      "[*********************100%***********************]  1 of 1 completed\n",
      "[*********************100%***********************]  1 of 1 completed\n",
      "[*********************100%***********************]  1 of 1 completed\n",
      "\n",
      "1 Failed download:\n",
      "['IVCI11.SA']: YFTzMissingError('possibly delisted; no timezone found')\n"
     ]
    },
    {
     "name": "stdout",
     "output_type": "stream",
     "text": [
      "Não foi possível obter dados para o ativo IVCI11.SA\n"
     ]
    },
    {
     "name": "stderr",
     "output_type": "stream",
     "text": [
      "[*********************100%***********************]  1 of 1 completed\n",
      "[*********************100%***********************]  1 of 1 completed\n",
      "\n",
      "1 Failed download:\n",
      "['ICNE11.SA']: YFTzMissingError('possibly delisted; no timezone found')\n"
     ]
    },
    {
     "name": "stdout",
     "output_type": "stream",
     "text": [
      "Não foi possível obter dados para o ativo ICNE11.SA\n"
     ]
    },
    {
     "name": "stderr",
     "output_type": "stream",
     "text": [
      "[*********************100%***********************]  1 of 1 completed\n",
      "\n",
      "1 Failed download:\n",
      "['RNOV11.SA']: YFTzMissingError('possibly delisted; no timezone found')\n"
     ]
    },
    {
     "name": "stdout",
     "output_type": "stream",
     "text": [
      "Não foi possível obter dados para o ativo RNOV11.SA\n"
     ]
    },
    {
     "name": "stderr",
     "output_type": "stream",
     "text": [
      "[*********************100%***********************]  1 of 1 completed\n",
      "\n",
      "1 Failed download:\n",
      "['FMOB11.SA']: YFTzMissingError('possibly delisted; no timezone found')\n"
     ]
    },
    {
     "name": "stdout",
     "output_type": "stream",
     "text": [
      "Não foi possível obter dados para o ativo FMOB11.SA\n"
     ]
    },
    {
     "name": "stderr",
     "output_type": "stream",
     "text": [
      "[*********************100%***********************]  1 of 1 completed\n",
      "\n",
      "1 Failed download:\n",
      "['IMMV11.SA']: YFTzMissingError('possibly delisted; no timezone found')\n"
     ]
    },
    {
     "name": "stdout",
     "output_type": "stream",
     "text": [
      "Não foi possível obter dados para o ativo IMMV11.SA\n"
     ]
    },
    {
     "name": "stderr",
     "output_type": "stream",
     "text": [
      "[*********************100%***********************]  1 of 1 completed\n",
      "\n",
      "1 Failed download:\n",
      "['INDE11.SA']: YFTzMissingError('possibly delisted; no timezone found')\n"
     ]
    },
    {
     "name": "stdout",
     "output_type": "stream",
     "text": [
      "Não foi possível obter dados para o ativo INDE11.SA\n"
     ]
    },
    {
     "name": "stderr",
     "output_type": "stream",
     "text": [
      "[*********************100%***********************]  1 of 1 completed\n",
      "[*********************100%***********************]  1 of 1 completed\n",
      "[*********************100%***********************]  1 of 1 completed\n",
      "[*********************100%***********************]  1 of 1 completed\n",
      "[*********************100%***********************]  1 of 1 completed\n",
      "[*********************100%***********************]  1 of 1 completed\n",
      "[*********************100%***********************]  1 of 1 completed\n",
      "\n",
      "1 Failed download:\n",
      "['IRBL11.SA']: YFTzMissingError('possibly delisted; no timezone found')\n"
     ]
    },
    {
     "name": "stdout",
     "output_type": "stream",
     "text": [
      "Não foi possível obter dados para o ativo IRBL11.SA\n"
     ]
    },
    {
     "name": "stderr",
     "output_type": "stream",
     "text": [
      "[*********************100%***********************]  1 of 1 completed\n",
      "[*********************100%***********************]  1 of 1 completed\n",
      "[*********************100%***********************]  1 of 1 completed\n",
      "[*********************100%***********************]  1 of 1 completed\n",
      "[*********************100%***********************]  1 of 1 completed\n",
      "\n",
      "1 Failed download:\n",
      "['JCDB11.SA']: YFTzMissingError('possibly delisted; no timezone found')\n"
     ]
    },
    {
     "name": "stdout",
     "output_type": "stream",
     "text": [
      "Não foi possível obter dados para o ativo JCDB11.SA\n"
     ]
    },
    {
     "name": "stderr",
     "output_type": "stream",
     "text": [
      "[*********************100%***********************]  1 of 1 completed\n",
      "\n",
      "1 Failed download:\n",
      "['JCDA11.SA']: YFTzMissingError('possibly delisted; no timezone found')\n",
      "[*********************100%***********************]  1 of 1 completed"
     ]
    },
    {
     "name": "stdout",
     "output_type": "stream",
     "text": [
      "Não foi possível obter dados para o ativo JCDA11.SA\n"
     ]
    },
    {
     "name": "stderr",
     "output_type": "stream",
     "text": [
      "\n",
      "[*********************100%***********************]  1 of 1 completed\n",
      "[*********************100%***********************]  1 of 1 completed\n",
      "\n",
      "1 Failed download:\n",
      "['VJFD11.SA']: YFPricesMissingError('possibly delisted; no price data found  (1h 2025-01-01 -> 2025-02-17)')\n"
     ]
    },
    {
     "name": "stdout",
     "output_type": "stream",
     "text": [
      "Não foi possível obter dados para o ativo VJFD11.SA\n"
     ]
    },
    {
     "name": "stderr",
     "output_type": "stream",
     "text": [
      "[*********************100%***********************]  1 of 1 completed\n",
      "[*********************100%***********************]  1 of 1 completed\n",
      "\n",
      "1 Failed download:\n",
      "['RDLS11.SA']: YFTzMissingError('possibly delisted; no timezone found')\n",
      "[*********************100%***********************]  1 of 1 completed\n"
     ]
    },
    {
     "name": "stdout",
     "output_type": "stream",
     "text": [
      "Não foi possível obter dados para o ativo RDLS11.SA\n"
     ]
    },
    {
     "name": "stderr",
     "output_type": "stream",
     "text": [
      "[*********************100%***********************]  1 of 1 completed\n",
      "[*********************100%***********************]  1 of 1 completed\n",
      "[*********************100%***********************]  1 of 1 completed\n",
      "[*********************100%***********************]  1 of 1 completed\n",
      "[*********************100%***********************]  1 of 1 completed\n",
      "[*********************100%***********************]  1 of 1 completed\n",
      "\n",
      "1 Failed download:\n",
      "['JTPR11.SA']: YFTzMissingError('possibly delisted; no timezone found')\n"
     ]
    },
    {
     "name": "stdout",
     "output_type": "stream",
     "text": [
      "Não foi possível obter dados para o ativo JTPR11.SA\n"
     ]
    },
    {
     "name": "stderr",
     "output_type": "stream",
     "text": [
      "[*********************100%***********************]  1 of 1 completed\n",
      "[*********************100%***********************]  1 of 1 completed\n",
      "[*********************100%***********************]  1 of 1 completed\n",
      "\n",
      "1 Failed download:\n",
      "['KRES11.SA']: YFTzMissingError('possibly delisted; no timezone found')\n"
     ]
    },
    {
     "name": "stdout",
     "output_type": "stream",
     "text": [
      "Não foi possível obter dados para o ativo KRES11.SA\n"
     ]
    },
    {
     "name": "stderr",
     "output_type": "stream",
     "text": [
      "[*********************100%***********************]  1 of 1 completed\n",
      "\n",
      "1 Failed download:\n",
      "['003H11.SA']: YFTzMissingError('possibly delisted; no timezone found')\n"
     ]
    },
    {
     "name": "stdout",
     "output_type": "stream",
     "text": [
      "Não foi possível obter dados para o ativo 003H11.SA\n"
     ]
    },
    {
     "name": "stderr",
     "output_type": "stream",
     "text": [
      "[*********************100%***********************]  1 of 1 completed\n",
      "[*********************100%***********************]  1 of 1 completed\n",
      "\n",
      "1 Failed download:\n",
      "['KLOG11.SA']: YFTzMissingError('possibly delisted; no timezone found')\n",
      "[*********************100%***********************]  1 of 1 completed"
     ]
    },
    {
     "name": "stdout",
     "output_type": "stream",
     "text": [
      "Não foi possível obter dados para o ativo KLOG11.SA\n"
     ]
    },
    {
     "name": "stderr",
     "output_type": "stream",
     "text": [
      "\n",
      "[*********************100%***********************]  1 of 1 completed\n",
      "[*********************100%***********************]  1 of 1 completed\n",
      "[*********************100%***********************]  1 of 1 completed\n",
      "[*********************100%***********************]  1 of 1 completed\n",
      "[*********************100%***********************]  1 of 1 completed\n",
      "\n",
      "1 Failed download:\n",
      "['KOPI11.SA']: YFTzMissingError('possibly delisted; no timezone found')\n"
     ]
    },
    {
     "name": "stdout",
     "output_type": "stream",
     "text": [
      "Não foi possível obter dados para o ativo KOPI11.SA\n"
     ]
    },
    {
     "name": "stderr",
     "output_type": "stream",
     "text": [
      "[*********************100%***********************]  1 of 1 completed\n",
      "[*********************100%***********************]  1 of 1 completed\n",
      "\n",
      "1 Failed download:\n",
      "['KNPR11.SA']: YFTzMissingError('possibly delisted; no timezone found')\n"
     ]
    },
    {
     "name": "stdout",
     "output_type": "stream",
     "text": [
      "Não foi possível obter dados para o ativo KNPR11.SA\n"
     ]
    },
    {
     "name": "stderr",
     "output_type": "stream",
     "text": [
      "[*********************100%***********************]  1 of 1 completed\n",
      "\n",
      "1 Failed download:\n",
      "['KPMR11.SA']: YFTzMissingError('possibly delisted; no timezone found')\n"
     ]
    },
    {
     "name": "stdout",
     "output_type": "stream",
     "text": [
      "Não foi possível obter dados para o ativo KPMR11.SA\n"
     ]
    },
    {
     "name": "stderr",
     "output_type": "stream",
     "text": [
      "[*********************100%***********************]  1 of 1 completed\n",
      "[*********************100%***********************]  1 of 1 completed\n",
      "[*********************100%***********************]  1 of 1 completed\n",
      "[*********************100%***********************]  1 of 1 completed\n",
      "[*********************100%***********************]  1 of 1 completed\n",
      "[*********************100%***********************]  1 of 1 completed\n",
      "\n",
      "1 Failed download:\n",
      "['SLDZ11.SA']: YFTzMissingError('possibly delisted; no timezone found')\n"
     ]
    },
    {
     "name": "stdout",
     "output_type": "stream",
     "text": [
      "Não foi possível obter dados para o ativo SLDZ11.SA\n"
     ]
    },
    {
     "name": "stderr",
     "output_type": "stream",
     "text": [
      "[*********************100%***********************]  1 of 1 completed\n",
      "\n",
      "1 Failed download:\n",
      "['LRED11.SA']: YFTzMissingError('possibly delisted; no timezone found')\n"
     ]
    },
    {
     "name": "stdout",
     "output_type": "stream",
     "text": [
      "Não foi possível obter dados para o ativo LRED11.SA\n"
     ]
    },
    {
     "name": "stderr",
     "output_type": "stream",
     "text": [
      "[*********************100%***********************]  1 of 1 completed\n",
      "\n",
      "1 Failed download:\n",
      "['LSOI11.SA']: YFTzMissingError('possibly delisted; no timezone found')\n"
     ]
    },
    {
     "name": "stdout",
     "output_type": "stream",
     "text": [
      "Não foi possível obter dados para o ativo LSOI11.SA\n"
     ]
    },
    {
     "name": "stderr",
     "output_type": "stream",
     "text": [
      "[*********************100%***********************]  1 of 1 completed\n",
      "[*********************100%***********************]  1 of 1 completed\n",
      "\n",
      "1 Failed download:\n",
      "['LSPA11.SA']: YFPricesMissingError('possibly delisted; no price data found  (1h 2025-01-01 -> 2025-02-17)')\n"
     ]
    },
    {
     "name": "stdout",
     "output_type": "stream",
     "text": [
      "Não foi possível obter dados para o ativo LSPA11.SA\n"
     ]
    },
    {
     "name": "stderr",
     "output_type": "stream",
     "text": [
      "[*********************100%***********************]  1 of 1 completed\n",
      "[*********************100%***********************]  1 of 1 completed\n",
      "\n",
      "1 Failed download:\n",
      "['LOFT11.SA']: YFTzMissingError('possibly delisted; no timezone found')\n"
     ]
    },
    {
     "name": "stdout",
     "output_type": "stream",
     "text": [
      "Não foi possível obter dados para o ativo LOFT11.SA\n"
     ]
    },
    {
     "name": "stderr",
     "output_type": "stream",
     "text": [
      "[*********************100%***********************]  1 of 1 completed\n",
      "[*********************100%***********************]  1 of 1 completed\n",
      "[*********************100%***********************]  1 of 1 completed\n",
      "[*********************100%***********************]  1 of 1 completed\n",
      "\n",
      "1 Failed download:\n",
      "['MCHY11.SA']: YFTzMissingError('possibly delisted; no timezone found')\n"
     ]
    },
    {
     "name": "stdout",
     "output_type": "stream",
     "text": [
      "Não foi possível obter dados para o ativo MCHY11.SA\n"
     ]
    },
    {
     "name": "stderr",
     "output_type": "stream",
     "text": [
      "[*********************100%***********************]  1 of 1 completed\n",
      "[*********************100%***********************]  1 of 1 completed\n",
      "\n",
      "1 Failed download:\n",
      "['MBBI11.SA']: YFTzMissingError('possibly delisted; no timezone found')\n"
     ]
    },
    {
     "name": "stdout",
     "output_type": "stream",
     "text": [
      "Não foi possível obter dados para o ativo MBBI11.SA\n"
     ]
    },
    {
     "name": "stderr",
     "output_type": "stream",
     "text": [
      "[*********************100%***********************]  1 of 1 completed\n",
      "[*********************100%***********************]  1 of 1 completed\n",
      "[*********************100%***********************]  1 of 1 completed\n",
      "\n",
      "1 Failed download:\n",
      "['MFAI11.SA']: YFTzMissingError('possibly delisted; no timezone found')\n",
      "[*********************100%***********************]  1 of 1 completed\n",
      "\n",
      "1 Failed download:\n"
     ]
    },
    {
     "name": "stdout",
     "output_type": "stream",
     "text": [
      "Não foi possível obter dados para o ativo MFAI11.SA\n"
     ]
    },
    {
     "name": "stderr",
     "output_type": "stream",
     "text": [
      "['MFCR11.SA']: YFPricesMissingError('possibly delisted; no price data found  (1h 2025-01-01 -> 2025-02-17)')\n"
     ]
    },
    {
     "name": "stdout",
     "output_type": "stream",
     "text": [
      "Não foi possível obter dados para o ativo MFCR11.SA\n"
     ]
    },
    {
     "name": "stderr",
     "output_type": "stream",
     "text": [
      "[*********************100%***********************]  1 of 1 completed\n",
      "\n",
      "1 Failed download:\n",
      "['MGRI11.SA']: YFTzMissingError('possibly delisted; no timezone found')\n"
     ]
    },
    {
     "name": "stdout",
     "output_type": "stream",
     "text": [
      "Não foi possível obter dados para o ativo MGRI11.SA\n"
     ]
    },
    {
     "name": "stderr",
     "output_type": "stream",
     "text": [
      "[*********************100%***********************]  1 of 1 completed\n",
      "[*********************100%***********************]  1 of 1 completed\n",
      "[*********************100%***********************]  1 of 1 completed\n",
      "\n",
      "1 Failed download:\n",
      "['MOFF11.SA']: YFTzMissingError('possibly delisted; no timezone found')\n",
      "[*********************100%***********************]  1 of 1 completed"
     ]
    },
    {
     "name": "stdout",
     "output_type": "stream",
     "text": [
      "Não foi possível obter dados para o ativo MOFF11.SA\n"
     ]
    },
    {
     "name": "stderr",
     "output_type": "stream",
     "text": [
      "\n",
      "[*********************100%***********************]  1 of 1 completed\n",
      "[*********************100%***********************]  1 of 1 completed\n",
      "[*********************100%***********************]  1 of 1 completed\n",
      "\n",
      "1 Failed download:\n",
      "['EAGL11.SA']: YFTzMissingError('possibly delisted; no timezone found')\n"
     ]
    },
    {
     "name": "stdout",
     "output_type": "stream",
     "text": [
      "Não foi possível obter dados para o ativo EAGL11.SA\n"
     ]
    },
    {
     "name": "stderr",
     "output_type": "stream",
     "text": [
      "[*********************100%***********************]  1 of 1 completed\n",
      "[*********************100%***********************]  1 of 1 completed\n",
      "[*********************100%***********************]  1 of 1 completed\n",
      "\n",
      "1 Failed download:\n",
      "['NVIF11.SA']: YFTzMissingError('possibly delisted; no timezone found')\n"
     ]
    },
    {
     "name": "stdout",
     "output_type": "stream",
     "text": [
      "Não foi possível obter dados para o ativo NVIF11.SA\n"
     ]
    },
    {
     "name": "stderr",
     "output_type": "stream",
     "text": [
      "[*********************100%***********************]  1 of 1 completed\n",
      "[*********************100%***********************]  1 of 1 completed\n",
      "\n",
      "1 Failed download:\n",
      "['ONDV11.SA']: YFTzMissingError('possibly delisted; no timezone found')\n"
     ]
    },
    {
     "name": "stdout",
     "output_type": "stream",
     "text": [
      "Não foi possível obter dados para o ativo ONDV11.SA\n"
     ]
    },
    {
     "name": "stderr",
     "output_type": "stream",
     "text": [
      "[*********************100%***********************]  1 of 1 completed\n",
      "[*********************100%***********************]  1 of 1 completed\n",
      "\n",
      "1 Failed download:\n",
      "['OBAL11.SA']: YFPricesMissingError('possibly delisted; no price data found  (1h 2025-01-01 -> 2025-02-17)')\n",
      "[*********************100%***********************]  1 of 1 completed"
     ]
    },
    {
     "name": "stdout",
     "output_type": "stream",
     "text": [
      "Não foi possível obter dados para o ativo OBAL11.SA\n"
     ]
    },
    {
     "name": "stderr",
     "output_type": "stream",
     "text": [
      "\n",
      "\n",
      "1 Failed download:\n",
      "['FTCE11.SA']: YFPricesMissingError('possibly delisted; no price data found  (1h 2025-01-01 -> 2025-02-17)')\n"
     ]
    },
    {
     "name": "stdout",
     "output_type": "stream",
     "text": [
      "Não foi possível obter dados para o ativo FTCE11.SA\n"
     ]
    },
    {
     "name": "stderr",
     "output_type": "stream",
     "text": [
      "[*********************100%***********************]  1 of 1 completed\n",
      "[*********************100%***********************]  1 of 1 completed\n",
      "[*********************100%***********************]  1 of 1 completed\n",
      "[*********************100%***********************]  1 of 1 completed\n",
      "\n",
      "1 Failed download:\n",
      "['PNLM11.SA']: YFTzMissingError('possibly delisted; no timezone found')\n"
     ]
    },
    {
     "name": "stdout",
     "output_type": "stream",
     "text": [
      "Não foi possível obter dados para o ativo PNLM11.SA\n"
     ]
    },
    {
     "name": "stderr",
     "output_type": "stream",
     "text": [
      "[*********************100%***********************]  1 of 1 completed\n",
      "[*********************100%***********************]  1 of 1 completed\n",
      "\n",
      "1 Failed download:\n",
      "['PNRC11.SA']: YFPricesMissingError('possibly delisted; no price data found  (1h 2025-01-01 -> 2025-02-17)')\n"
     ]
    },
    {
     "name": "stdout",
     "output_type": "stream",
     "text": [
      "Não foi possível obter dados para o ativo PNRC11.SA\n"
     ]
    },
    {
     "name": "stderr",
     "output_type": "stream",
     "text": [
      "[*********************100%***********************]  1 of 1 completed\n",
      "[*********************100%***********************]  1 of 1 completed\n",
      "\n",
      "1 Failed download:\n",
      "['VTVI11.SA']: YFTzMissingError('possibly delisted; no timezone found')\n",
      "[*********************100%***********************]  1 of 1 completed"
     ]
    },
    {
     "name": "stdout",
     "output_type": "stream",
     "text": [
      "Não foi possível obter dados para o ativo VTVI11.SA\n"
     ]
    },
    {
     "name": "stderr",
     "output_type": "stream",
     "text": [
      "\n",
      "[*********************100%***********************]  1 of 1 completed\n",
      "[*********************100%***********************]  1 of 1 completed\n",
      "[*********************100%***********************]  1 of 1 completed\n",
      "[*********************100%***********************]  1 of 1 completed\n",
      "[*********************100%***********************]  1 of 1 completed\n",
      "[*********************100%***********************]  1 of 1 completed\n",
      "[*********************100%***********************]  1 of 1 completed\n",
      "[*********************100%***********************]  1 of 1 completed\n",
      "[*********************100%***********************]  1 of 1 completed\n",
      "[*********************100%***********************]  1 of 1 completed\n",
      "[*********************100%***********************]  1 of 1 completed\n",
      "[*********************100%***********************]  1 of 1 completed\n",
      "[*********************100%***********************]  1 of 1 completed\n",
      "[*********************100%***********************]  1 of 1 completed\n",
      "\n",
      "1 Failed download:\n",
      "['PCAS11.SA']: YFTzMissingError('possibly delisted; no timezone found')\n"
     ]
    },
    {
     "name": "stdout",
     "output_type": "stream",
     "text": [
      "Não foi possível obter dados para o ativo PCAS11.SA\n"
     ]
    },
    {
     "name": "stderr",
     "output_type": "stream",
     "text": [
      "[*********************100%***********************]  1 of 1 completed\n",
      "\n",
      "1 Failed download:\n",
      "['PRZS11.SA']: YFTzMissingError('possibly delisted; no timezone found')\n"
     ]
    },
    {
     "name": "stdout",
     "output_type": "stream",
     "text": [
      "Não foi possível obter dados para o ativo PRZS11.SA\n"
     ]
    },
    {
     "name": "stderr",
     "output_type": "stream",
     "text": [
      "[*********************100%***********************]  1 of 1 completed\n",
      "[*********************100%***********************]  1 of 1 completed\n",
      "\n",
      "1 Failed download:\n",
      "['PBLV11.SA']: YFTzMissingError('possibly delisted; no timezone found')\n"
     ]
    },
    {
     "name": "stdout",
     "output_type": "stream",
     "text": [
      "Não foi possível obter dados para o ativo PBLV11.SA\n"
     ]
    },
    {
     "name": "stderr",
     "output_type": "stream",
     "text": [
      "[*********************100%***********************]  1 of 1 completed\n",
      "\n",
      "1 Failed download:\n",
      "['IMOF11.SA']: YFTzMissingError('possibly delisted; no timezone found')\n"
     ]
    },
    {
     "name": "stdout",
     "output_type": "stream",
     "text": [
      "Não foi possível obter dados para o ativo IMOF11.SA\n"
     ]
    },
    {
     "name": "stderr",
     "output_type": "stream",
     "text": [
      "[*********************100%***********************]  1 of 1 completed\n",
      "\n",
      "1 Failed download:\n",
      "['QTZD11.SA']: YFTzMissingError('possibly delisted; no timezone found')\n"
     ]
    },
    {
     "name": "stdout",
     "output_type": "stream",
     "text": [
      "Não foi possível obter dados para o ativo QTZD11.SA\n"
     ]
    },
    {
     "name": "stderr",
     "output_type": "stream",
     "text": [
      "[*********************100%***********************]  1 of 1 completed\n",
      "[*********************100%***********************]  1 of 1 completed\n",
      "\n",
      "1 Failed download:\n",
      "['RZZI11.SA']: YFTzMissingError('possibly delisted; no timezone found')\n",
      "[*********************100%***********************]  1 of 1 completed\n"
     ]
    },
    {
     "name": "stdout",
     "output_type": "stream",
     "text": [
      "Não foi possível obter dados para o ativo RZZI11.SA\n"
     ]
    },
    {
     "name": "stderr",
     "output_type": "stream",
     "text": [
      "[*********************100%***********************]  1 of 1 completed\n",
      "[*********************100%***********************]  1 of 1 completed\n",
      "[*********************100%***********************]  1 of 1 completed\n",
      "[*********************100%***********************]  1 of 1 completed\n",
      "[*********************100%***********************]  1 of 1 completed\n",
      "[*********************100%***********************]  1 of 1 completed\n",
      "[*********************100%***********************]  1 of 1 completed\n",
      "[*********************100%***********************]  1 of 1 completed\n",
      "[*********************100%***********************]  1 of 1 completed\n",
      "[*********************100%***********************]  1 of 1 completed\n",
      "[*********************100%***********************]  1 of 1 completed\n",
      "\n",
      "1 Failed download:\n",
      "['RDCI11.SA']: YFTzMissingError('possibly delisted; no timezone found')\n"
     ]
    },
    {
     "name": "stdout",
     "output_type": "stream",
     "text": [
      "Não foi possível obter dados para o ativo RDCI11.SA\n"
     ]
    },
    {
     "name": "stderr",
     "output_type": "stream",
     "text": [
      "[*********************100%***********************]  1 of 1 completed\n",
      "[*********************100%***********************]  1 of 1 completed\n",
      "\n",
      "1 Failed download:\n",
      "['SHIP11.SA']: YFTzMissingError('possibly delisted; no timezone found')\n"
     ]
    },
    {
     "name": "stdout",
     "output_type": "stream",
     "text": [
      "Não foi possível obter dados para o ativo SHIP11.SA\n"
     ]
    },
    {
     "name": "stderr",
     "output_type": "stream",
     "text": [
      "[*********************100%***********************]  1 of 1 completed\n",
      "[*********************100%***********************]  1 of 1 completed\n",
      "[*********************100%***********************]  1 of 1 completed\n",
      "[*********************100%***********************]  1 of 1 completed\n",
      "[*********************100%***********************]  1 of 1 completed\n",
      "[*********************100%***********************]  1 of 1 completed\n",
      "[*********************100%***********************]  1 of 1 completed\n",
      "[*********************100%***********************]  1 of 1 completed\n",
      "[*********************100%***********************]  1 of 1 completed\n",
      "[*********************100%***********************]  1 of 1 completed\n",
      "[*********************100%***********************]  1 of 1 completed\n",
      "\n",
      "1 Failed download:\n",
      "['RBVO11.SA']: YFTzMissingError('possibly delisted; no timezone found')\n"
     ]
    },
    {
     "name": "stdout",
     "output_type": "stream",
     "text": [
      "Não foi possível obter dados para o ativo RBVO11.SA\n"
     ]
    },
    {
     "name": "stderr",
     "output_type": "stream",
     "text": [
      "[*********************100%***********************]  1 of 1 completed\n",
      "[*********************100%***********************]  1 of 1 completed\n",
      "[*********************100%***********************]  1 of 1 completed\n",
      "[*********************100%***********************]  1 of 1 completed\n",
      "[*********************100%***********************]  1 of 1 completed\n",
      "[*********************100%***********************]  1 of 1 completed\n",
      "[*********************100%***********************]  1 of 1 completed\n",
      "\n",
      "1 Failed download:\n",
      "['RCKF11.SA']: YFTzMissingError('possibly delisted; no timezone found')\n"
     ]
    },
    {
     "name": "stdout",
     "output_type": "stream",
     "text": [
      "Não foi possível obter dados para o ativo RCKF11.SA\n"
     ]
    },
    {
     "name": "stderr",
     "output_type": "stream",
     "text": [
      "[*********************100%***********************]  1 of 1 completed\n",
      "[*********************100%***********************]  1 of 1 completed\n",
      "[*********************100%***********************]  1 of 1 completed\n",
      "[*********************100%***********************]  1 of 1 completed\n",
      "\n",
      "1 Failed download:\n",
      "['FISD11.SA']: YFPricesMissingError('possibly delisted; no price data found  (1h 2025-01-01 -> 2025-02-17)')\n"
     ]
    },
    {
     "name": "stdout",
     "output_type": "stream",
     "text": [
      "Não foi possível obter dados para o ativo FISD11.SA\n"
     ]
    },
    {
     "name": "stderr",
     "output_type": "stream",
     "text": [
      "[*********************100%***********************]  1 of 1 completed\n",
      "[*********************100%***********************]  1 of 1 completed\n",
      "[*********************100%***********************]  1 of 1 completed\n",
      "[*********************100%***********************]  1 of 1 completed\n",
      "[*********************100%***********************]  1 of 1 completed\n",
      "[*********************100%***********************]  1 of 1 completed\n",
      "[*********************100%***********************]  1 of 1 completed\n",
      "\n",
      "1 Failed download:\n",
      "['SPAF11.SA']: YFTzMissingError('possibly delisted; no timezone found')\n",
      "[*********************100%***********************]  1 of 1 completed\n"
     ]
    },
    {
     "name": "stdout",
     "output_type": "stream",
     "text": [
      "Não foi possível obter dados para o ativo SPAF11.SA\n"
     ]
    },
    {
     "name": "stderr",
     "output_type": "stream",
     "text": [
      "[*********************100%***********************]  1 of 1 completed\n",
      "[*********************100%***********************]  1 of 1 completed\n",
      "[*********************100%***********************]  1 of 1 completed\n",
      "\n",
      "1 Failed download:\n",
      "['PMFO11.SA']: YFPricesMissingError('possibly delisted; no price data found  (1h 2025-01-01 -> 2025-02-17)')\n"
     ]
    },
    {
     "name": "stdout",
     "output_type": "stream",
     "text": [
      "Não foi possível obter dados para o ativo PMFO11.SA\n"
     ]
    },
    {
     "name": "stderr",
     "output_type": "stream",
     "text": [
      "[*********************100%***********************]  1 of 1 completed\n",
      "[*********************100%***********************]  1 of 1 completed\n",
      "\n",
      "1 Failed download:\n",
      "['SPXG11.SA']: YFTzMissingError('possibly delisted; no timezone found')\n"
     ]
    },
    {
     "name": "stdout",
     "output_type": "stream",
     "text": [
      "Não foi possível obter dados para o ativo SPXG11.SA\n"
     ]
    },
    {
     "name": "stderr",
     "output_type": "stream",
     "text": [
      "[*********************100%***********************]  1 of 1 completed\n",
      "\n",
      "1 Failed download:\n",
      "['SPXL11.SA']: YFTzMissingError('possibly delisted; no timezone found')\n",
      "[*********************100%***********************]  1 of 1 completed\n",
      "\n",
      "1 Failed download:\n"
     ]
    },
    {
     "name": "stdout",
     "output_type": "stream",
     "text": [
      "Não foi possível obter dados para o ativo SPXL11.SA\n"
     ]
    },
    {
     "name": "stderr",
     "output_type": "stream",
     "text": [
      "['STRX11.SA']: YFPricesMissingError('possibly delisted; no price data found  (1h 2025-01-01 -> 2025-02-17)')\n"
     ]
    },
    {
     "name": "stdout",
     "output_type": "stream",
     "text": [
      "Não foi possível obter dados para o ativo STRX11.SA\n"
     ]
    },
    {
     "name": "stderr",
     "output_type": "stream",
     "text": [
      "[*********************100%***********************]  1 of 1 completed\n",
      "[*********************100%***********************]  1 of 1 completed\n",
      "[*********************100%***********************]  1 of 1 completed\n",
      "[*********************100%***********************]  1 of 1 completed\n",
      "[*********************100%***********************]  1 of 1 completed\n",
      "[*********************100%***********************]  1 of 1 completed\n",
      "\n",
      "1 Failed download:\n",
      "['TELD11.SA']: YFTzMissingError('possibly delisted; no timezone found')\n"
     ]
    },
    {
     "name": "stdout",
     "output_type": "stream",
     "text": [
      "Não foi possível obter dados para o ativo TELD11.SA\n"
     ]
    },
    {
     "name": "stderr",
     "output_type": "stream",
     "text": [
      "[*********************100%***********************]  1 of 1 completed\n",
      "[*********************100%***********************]  1 of 1 completed\n",
      "[*********************100%***********************]  1 of 1 completed\n",
      "\n",
      "1 Failed download:\n",
      "['TSER11.SA']: YFPricesMissingError('possibly delisted; no price data found  (1h 2025-01-01 -> 2025-02-17)')\n"
     ]
    },
    {
     "name": "stdout",
     "output_type": "stream",
     "text": [
      "Não foi possível obter dados para o ativo TSER11.SA\n"
     ]
    },
    {
     "name": "stderr",
     "output_type": "stream",
     "text": [
      "[*********************100%***********************]  1 of 1 completed\n",
      "[*********************100%***********************]  1 of 1 completed\n",
      "[*********************100%***********************]  1 of 1 completed\n",
      "[*********************100%***********************]  1 of 1 completed\n",
      "[*********************100%***********************]  1 of 1 completed\n",
      "[*********************100%***********************]  1 of 1 completed\n",
      "\n",
      "1 Failed download:\n",
      "['TCPF11.SA']: YFTzMissingError('possibly delisted; no timezone found')\n"
     ]
    },
    {
     "name": "stdout",
     "output_type": "stream",
     "text": [
      "Não foi possível obter dados para o ativo TCPF11.SA\n"
     ]
    },
    {
     "name": "stderr",
     "output_type": "stream",
     "text": [
      "[*********************100%***********************]  1 of 1 completed\n",
      "[*********************100%***********************]  1 of 1 completed\n",
      "[*********************100%***********************]  1 of 1 completed\n",
      "[*********************100%***********************]  1 of 1 completed\n",
      "[*********************100%***********************]  1 of 1 completed\n",
      "[*********************100%***********************]  1 of 1 completed\n",
      "[*********************100%***********************]  1 of 1 completed\n",
      "[*********************100%***********************]  1 of 1 completed\n",
      "[*********************100%***********************]  1 of 1 completed\n",
      "[*********************100%***********************]  1 of 1 completed\n",
      "[*********************100%***********************]  1 of 1 completed\n",
      "[*********************100%***********************]  1 of 1 completed\n",
      "[*********************100%***********************]  1 of 1 completed\n",
      "[*********************100%***********************]  1 of 1 completed\n",
      "[*********************100%***********************]  1 of 1 completed\n",
      "[*********************100%***********************]  1 of 1 completed\n",
      "[*********************100%***********************]  1 of 1 completed\n",
      "[*********************100%***********************]  1 of 1 completed\n",
      "[*********************100%***********************]  1 of 1 completed\n",
      "[*********************100%***********************]  1 of 1 completed\n",
      "\n",
      "1 Failed download:\n",
      "['VCSC11.SA']: YFTzMissingError('possibly delisted; no timezone found')\n"
     ]
    },
    {
     "name": "stdout",
     "output_type": "stream",
     "text": [
      "Não foi possível obter dados para o ativo VCSC11.SA\n"
     ]
    },
    {
     "name": "stderr",
     "output_type": "stream",
     "text": [
      "[*********************100%***********************]  1 of 1 completed\n",
      "\n",
      "1 Failed download:\n",
      "['VLJS11.SA']: YFTzMissingError('possibly delisted; no timezone found')\n"
     ]
    },
    {
     "name": "stdout",
     "output_type": "stream",
     "text": [
      "Não foi possível obter dados para o ativo VLJS11.SA\n"
     ]
    },
    {
     "name": "stderr",
     "output_type": "stream",
     "text": [
      "[*********************100%***********************]  1 of 1 completed\n",
      "\n",
      "1 Failed download:\n",
      "['SALI11.SA']: YFTzMissingError('possibly delisted; no timezone found')\n"
     ]
    },
    {
     "name": "stdout",
     "output_type": "stream",
     "text": [
      "Não foi possível obter dados para o ativo SALI11.SA\n"
     ]
    },
    {
     "name": "stderr",
     "output_type": "stream",
     "text": [
      "[*********************100%***********************]  1 of 1 completed\n",
      "\n",
      "1 Failed download:\n",
      "['VCTH11.SA']: YFTzMissingError('possibly delisted; no timezone found')\n",
      "[*********************100%***********************]  1 of 1 completed"
     ]
    },
    {
     "name": "stdout",
     "output_type": "stream",
     "text": [
      "Não foi possível obter dados para o ativo VCTH11.SA\n"
     ]
    },
    {
     "name": "stderr",
     "output_type": "stream",
     "text": [
      "\n",
      "[*********************100%***********************]  1 of 1 completed\n",
      "\n",
      "1 Failed download:\n",
      "['VIDS11.SA']: YFTzMissingError('possibly delisted; no timezone found')\n"
     ]
    },
    {
     "name": "stdout",
     "output_type": "stream",
     "text": [
      "Não foi possível obter dados para o ativo VIDS11.SA\n"
     ]
    },
    {
     "name": "stderr",
     "output_type": "stream",
     "text": [
      "[*********************100%***********************]  1 of 1 completed\n",
      "\n",
      "1 Failed download:\n",
      "['VDSV11.SA']: YFTzMissingError('possibly delisted; no timezone found')\n",
      "[*********************100%***********************]  1 of 1 completed\n"
     ]
    },
    {
     "name": "stdout",
     "output_type": "stream",
     "text": [
      "Não foi possível obter dados para o ativo VDSV11.SA\n"
     ]
    },
    {
     "name": "stderr",
     "output_type": "stream",
     "text": [
      "[*********************100%***********************]  1 of 1 completed\n",
      "[*********************100%***********************]  1 of 1 completed\n",
      "[*********************100%***********************]  1 of 1 completed\n",
      "[*********************100%***********************]  1 of 1 completed\n",
      "[*********************100%***********************]  1 of 1 completed\n",
      "[*********************100%***********************]  1 of 1 completed\n",
      "[*********************100%***********************]  1 of 1 completed\n",
      "[*********************100%***********************]  1 of 1 completed\n",
      "[*********************100%***********************]  1 of 1 completed\n",
      "[*********************100%***********************]  1 of 1 completed\n",
      "[*********************100%***********************]  1 of 1 completed\n",
      "[*********************100%***********************]  1 of 1 completed\n",
      "[*********************100%***********************]  1 of 1 completed\n",
      "[*********************100%***********************]  1 of 1 completed\n",
      "[*********************100%***********************]  1 of 1 completed\n",
      "[*********************100%***********************]  1 of 1 completed\n",
      "\n",
      "1 Failed download:\n",
      "['XPCE11.SA']: YFTzMissingError('possibly delisted; no timezone found')\n"
     ]
    },
    {
     "name": "stdout",
     "output_type": "stream",
     "text": [
      "Não foi possível obter dados para o ativo XPCE11.SA\n"
     ]
    },
    {
     "name": "stderr",
     "output_type": "stream",
     "text": [
      "[*********************100%***********************]  1 of 1 completed\n",
      "[*********************100%***********************]  1 of 1 completed\n",
      "[*********************100%***********************]  1 of 1 completed\n",
      "[*********************100%***********************]  1 of 1 completed\n",
      "[*********************100%***********************]  1 of 1 completed\n"
     ]
    },
    {
     "name": "stdout",
     "output_type": "stream",
     "text": [
      ">>>>>>>>>>>>>>>>>>>>>>>>>>>>>>> Ativos sem resultado: ['ALZM11.SA', 'MTOF11.SA', 'BICR11.SA', 'AURB11.SA', 'APXU11.SA', 'AZPE11.SA', 'BZEL11.SA', 'BPDR11.SA', 'BPLC11.SA', 'BBIM11.SA', 'BRSE11.SA', 'RTEL11.SA', 'BRCD11.SA', 'BIPE11.SA', 'BRIX11.SA', 'BETW11.SA', 'BTWR11.SA', 'BTSG11.SA', 'BTSI11.SA', 'CCVA11.SA', 'EVBI11.SA', 'CIXM11.SA', 'CIXR11.SA', 'CSMC11.SA', 'CVPR11.SA', 'CYLD11.SA', 'DLMT11.SA', 'EDGE11.SA', 'ERCR11.SA', 'FAGL11.SA', 'FARU11.SA', 'BMII11.SA', 'FIIC11.SA', 'IDGR11.SA', 'IDUA11.SA', 'PATB11.SA', 'BRHT11.SA', 'BVAR11.SA', 'CJFI11.SA', 'EZTB11.SA', 'HERM11.SA', 'FINF11.SA', 'JKDF11.SA', 'JKEF11.SA', 'MVFI11.SA', 'ESTQ11.SA', 'VPSI11.SA', 'QNTS11.SA', 'ANGC11.SA', 'SFFI11.SA', 'TGRU11.SA', 'TMFI11.SA', 'VERE11.SA', 'FBTS11.SA', 'IDFI11.SA', 'FAVM11.SA', 'FIGV11.SA', 'VTPL11.SA', 'ATWN11.SA', 'RECX11.SA', 'VTPA11.SA', 'VTXI11.SA', 'FTRE11.SA', 'BCFF11.SA', 'HRES11.SA', 'N4V111.SA', 'VCHG11.SA', 'FLNR11.SA', 'HLMB11.SA', 'SBCL11.SA', 'FRHY11.SA', 'SPVJ11.SA', 'HOMS11.SA', 'LKDV11.SA', 'MINT11.SA', 'OPTM11.SA', 'TCIN11.SA', 'GRRO11.SA', 'ATCR11.SA', 'HCOF11.SA', 'SEED11.SA', 'HILG11.SA', 'IVCI11.SA', 'ICNE11.SA', 'RNOV11.SA', 'FMOB11.SA', 'IMMV11.SA', 'INDE11.SA', 'IRBL11.SA', 'JCDB11.SA', 'JCDA11.SA', 'VJFD11.SA', 'RDLS11.SA', 'JTPR11.SA', 'KRES11.SA', '003H11.SA', 'KLOG11.SA', 'KOPI11.SA', 'KNPR11.SA', 'KPMR11.SA', 'SLDZ11.SA', 'LRED11.SA', 'LSOI11.SA', 'LSPA11.SA', 'LOFT11.SA', 'MCHY11.SA', 'MBBI11.SA', 'MFAI11.SA', 'MFCR11.SA', 'MGRI11.SA', 'MOFF11.SA', 'EAGL11.SA', 'NVIF11.SA', 'ONDV11.SA', 'OBAL11.SA', 'FTCE11.SA', 'PNLM11.SA', 'PNRC11.SA', 'VTVI11.SA', 'PCAS11.SA', 'PRZS11.SA', 'PBLV11.SA', 'IMOF11.SA', 'QTZD11.SA', 'RZZI11.SA', 'RDCI11.SA', 'SHIP11.SA', 'RBVO11.SA', 'RCKF11.SA', 'FISD11.SA', 'SPAF11.SA', 'PMFO11.SA', 'SPXG11.SA', 'SPXL11.SA', 'STRX11.SA', 'TELD11.SA', 'TSER11.SA', 'TCPF11.SA', 'VCSC11.SA', 'VLJS11.SA', 'SALI11.SA', 'VCTH11.SA', 'VIDS11.SA', 'VDSV11.SA', 'XPCE11.SA']\n"
     ]
    }
   ],
   "execution_count": 15
  },
  {
   "metadata": {
    "ExecuteTime": {
     "end_time": "2025-02-17T23:04:38.629425Z",
     "start_time": "2025-02-17T23:04:38.627400Z"
    }
   },
   "cell_type": "code",
   "source": "",
   "id": "4af07f843381acf4",
   "outputs": [],
   "execution_count": null
  },
  {
   "metadata": {},
   "cell_type": "markdown",
   "source": "## Arquivo com o resultado das cotações\n",
   "id": "7948fabff0413aaf"
  },
  {
   "metadata": {},
   "cell_type": "markdown",
   "source": "### Execução",
   "id": "e9069716957cfe85"
  },
  {
   "metadata": {
    "ExecuteTime": {
     "end_time": "2025-02-17T23:04:38.645094Z",
     "start_time": "2025-02-17T23:04:38.640764Z"
    }
   },
   "cell_type": "code",
   "source": [
    "# Consolidar todo o mapa de cotações\n",
    "if configs.processar_dividendos == True:\n",
    "    todas_os_dividendos = compilar_dividendos_dos_ativos(lista_de_fundos_imobiliarios, configs.data_inicial,\n",
    "                                                         configs.data_final)\n",
    "    todas_os_dividendos.to_csv(configs.arquivo_compilado_dividendos, index=False)\n",
    "    todas_os_dividendos.head()\n",
    "    # prompt: rsult = obter_historico_de_dividendos ('BRCO11.SA')\n",
    "\n",
    "    result = obter_historico_de_dividendos('BRCO11.SA', configs.data_inicial, configs.data_final)\n",
    "    result"
   ],
   "id": "ab2ca67ac90102e",
   "outputs": [],
   "execution_count": 16
  },
  {
   "metadata": {
    "ExecuteTime": {
     "end_time": "2025-02-17T23:04:40.666334Z",
     "start_time": "2025-02-17T23:04:38.661359Z"
    }
   },
   "cell_type": "code",
   "source": "",
   "id": "e5af493603ce6e69",
   "outputs": [
    {
     "ename": "TypeError",
     "evalue": "Invalid comparison between dtype=datetime64[ns, America/Sao_Paulo] and date",
     "output_type": "error",
     "traceback": [
      "\u001B[1;31m---------------------------------------------------------------------------\u001B[0m",
      "\u001B[1;31mInvalidComparison\u001B[0m                         Traceback (most recent call last)",
      "File \u001B[1;32m~\\anaconda3\\Lib\\site-packages\\pandas\\core\\arrays\\datetimelike.py:983\u001B[0m, in \u001B[0;36mDatetimeLikeArrayMixin._cmp_method\u001B[1;34m(self, other, op)\u001B[0m\n\u001B[0;32m    982\u001B[0m \u001B[38;5;28;01mtry\u001B[39;00m:\n\u001B[1;32m--> 983\u001B[0m     other \u001B[38;5;241m=\u001B[39m \u001B[38;5;28mself\u001B[39m\u001B[38;5;241m.\u001B[39m_validate_comparison_value(other)\n\u001B[0;32m    984\u001B[0m \u001B[38;5;28;01mexcept\u001B[39;00m InvalidComparison:\n",
      "File \u001B[1;32m~\\anaconda3\\Lib\\site-packages\\pandas\\core\\arrays\\datetimelike.py:542\u001B[0m, in \u001B[0;36mDatetimeLikeArrayMixin._validate_comparison_value\u001B[1;34m(self, other)\u001B[0m\n\u001B[0;32m    541\u001B[0m \u001B[38;5;28;01melif\u001B[39;00m \u001B[38;5;129;01mnot\u001B[39;00m is_list_like(other):\n\u001B[1;32m--> 542\u001B[0m     \u001B[38;5;28;01mraise\u001B[39;00m InvalidComparison(other)\n\u001B[0;32m    544\u001B[0m \u001B[38;5;28;01melif\u001B[39;00m \u001B[38;5;28mlen\u001B[39m(other) \u001B[38;5;241m!=\u001B[39m \u001B[38;5;28mlen\u001B[39m(\u001B[38;5;28mself\u001B[39m):\n",
      "\u001B[1;31mInvalidComparison\u001B[0m: 2025-01-01",
      "\nDuring handling of the above exception, another exception occurred:\n",
      "\u001B[1;31mTypeError\u001B[0m                                 Traceback (most recent call last)",
      "Cell \u001B[1;32mIn[17], line 3\u001B[0m\n\u001B[0;32m      1\u001B[0m \u001B[38;5;66;03m# prompt: rsult = obter_historico_de_dividendos ('BRCO11.SA')\u001B[39;00m\n\u001B[1;32m----> 3\u001B[0m result \u001B[38;5;241m=\u001B[39m obter_historico_de_dividendos(\u001B[38;5;124m'\u001B[39m\u001B[38;5;124mBRCO11.SA\u001B[39m\u001B[38;5;124m'\u001B[39m, configs\u001B[38;5;241m.\u001B[39mdata_inicial, configs\u001B[38;5;241m.\u001B[39mdata_final)\n\u001B[0;32m      4\u001B[0m result\n",
      "Cell \u001B[1;32mIn[11], line 8\u001B[0m, in \u001B[0;36mobter_historico_de_dividendos\u001B[1;34m(ativo, data_inicial, data_final)\u001B[0m\n\u001B[0;32m      6\u001B[0m \u001B[38;5;66;03m# Obtendo os dividendos\u001B[39;00m\n\u001B[0;32m      7\u001B[0m info \u001B[38;5;241m=\u001B[39m ticker\u001B[38;5;241m.\u001B[39mdividends\n\u001B[1;32m----> 8\u001B[0m info \u001B[38;5;241m=\u001B[39m info[(info\u001B[38;5;241m.\u001B[39mindex \u001B[38;5;241m>\u001B[39m\u001B[38;5;241m=\u001B[39m data_inicial) \u001B[38;5;241m&\u001B[39m (info\u001B[38;5;241m.\u001B[39mindex \u001B[38;5;241m<\u001B[39m\u001B[38;5;241m=\u001B[39m data_final)]\n\u001B[0;32m     10\u001B[0m \u001B[38;5;66;03m# Renomeando a coluna para 'Dividendos'\u001B[39;00m\n\u001B[0;32m     11\u001B[0m info \u001B[38;5;241m=\u001B[39m info\u001B[38;5;241m.\u001B[39mrename(\u001B[38;5;124m'\u001B[39m\u001B[38;5;124mDividendos\u001B[39m\u001B[38;5;124m'\u001B[39m)\u001B[38;5;241m.\u001B[39mreset_index()\n",
      "File \u001B[1;32m~\\anaconda3\\Lib\\site-packages\\pandas\\core\\ops\\common.py:76\u001B[0m, in \u001B[0;36m_unpack_zerodim_and_defer.<locals>.new_method\u001B[1;34m(self, other)\u001B[0m\n\u001B[0;32m     72\u001B[0m             \u001B[38;5;28;01mreturn\u001B[39;00m \u001B[38;5;28mNotImplemented\u001B[39m\n\u001B[0;32m     74\u001B[0m other \u001B[38;5;241m=\u001B[39m item_from_zerodim(other)\n\u001B[1;32m---> 76\u001B[0m \u001B[38;5;28;01mreturn\u001B[39;00m method(\u001B[38;5;28mself\u001B[39m, other)\n",
      "File \u001B[1;32m~\\anaconda3\\Lib\\site-packages\\pandas\\core\\arraylike.py:60\u001B[0m, in \u001B[0;36mOpsMixin.__ge__\u001B[1;34m(self, other)\u001B[0m\n\u001B[0;32m     58\u001B[0m \u001B[38;5;129m@unpack_zerodim_and_defer\u001B[39m(\u001B[38;5;124m\"\u001B[39m\u001B[38;5;124m__ge__\u001B[39m\u001B[38;5;124m\"\u001B[39m)\n\u001B[0;32m     59\u001B[0m \u001B[38;5;28;01mdef\u001B[39;00m \u001B[38;5;21m__ge__\u001B[39m(\u001B[38;5;28mself\u001B[39m, other):\n\u001B[1;32m---> 60\u001B[0m     \u001B[38;5;28;01mreturn\u001B[39;00m \u001B[38;5;28mself\u001B[39m\u001B[38;5;241m.\u001B[39m_cmp_method(other, operator\u001B[38;5;241m.\u001B[39mge)\n",
      "File \u001B[1;32m~\\anaconda3\\Lib\\site-packages\\pandas\\core\\indexes\\base.py:7197\u001B[0m, in \u001B[0;36mIndex._cmp_method\u001B[1;34m(self, other, op)\u001B[0m\n\u001B[0;32m   7194\u001B[0m     result \u001B[38;5;241m=\u001B[39m op(\u001B[38;5;28mself\u001B[39m\u001B[38;5;241m.\u001B[39m_values, other)\n\u001B[0;32m   7196\u001B[0m \u001B[38;5;28;01melif\u001B[39;00m \u001B[38;5;28misinstance\u001B[39m(\u001B[38;5;28mself\u001B[39m\u001B[38;5;241m.\u001B[39m_values, ExtensionArray):\n\u001B[1;32m-> 7197\u001B[0m     result \u001B[38;5;241m=\u001B[39m op(\u001B[38;5;28mself\u001B[39m\u001B[38;5;241m.\u001B[39m_values, other)\n\u001B[0;32m   7199\u001B[0m \u001B[38;5;28;01melif\u001B[39;00m is_object_dtype(\u001B[38;5;28mself\u001B[39m\u001B[38;5;241m.\u001B[39mdtype) \u001B[38;5;129;01mand\u001B[39;00m \u001B[38;5;129;01mnot\u001B[39;00m \u001B[38;5;28misinstance\u001B[39m(\u001B[38;5;28mself\u001B[39m, ABCMultiIndex):\n\u001B[0;32m   7200\u001B[0m     \u001B[38;5;66;03m# don't pass MultiIndex\u001B[39;00m\n\u001B[0;32m   7201\u001B[0m     result \u001B[38;5;241m=\u001B[39m ops\u001B[38;5;241m.\u001B[39mcomp_method_OBJECT_ARRAY(op, \u001B[38;5;28mself\u001B[39m\u001B[38;5;241m.\u001B[39m_values, other)\n",
      "File \u001B[1;32m~\\anaconda3\\Lib\\site-packages\\pandas\\core\\ops\\common.py:76\u001B[0m, in \u001B[0;36m_unpack_zerodim_and_defer.<locals>.new_method\u001B[1;34m(self, other)\u001B[0m\n\u001B[0;32m     72\u001B[0m             \u001B[38;5;28;01mreturn\u001B[39;00m \u001B[38;5;28mNotImplemented\u001B[39m\n\u001B[0;32m     74\u001B[0m other \u001B[38;5;241m=\u001B[39m item_from_zerodim(other)\n\u001B[1;32m---> 76\u001B[0m \u001B[38;5;28;01mreturn\u001B[39;00m method(\u001B[38;5;28mself\u001B[39m, other)\n",
      "File \u001B[1;32m~\\anaconda3\\Lib\\site-packages\\pandas\\core\\arraylike.py:60\u001B[0m, in \u001B[0;36mOpsMixin.__ge__\u001B[1;34m(self, other)\u001B[0m\n\u001B[0;32m     58\u001B[0m \u001B[38;5;129m@unpack_zerodim_and_defer\u001B[39m(\u001B[38;5;124m\"\u001B[39m\u001B[38;5;124m__ge__\u001B[39m\u001B[38;5;124m\"\u001B[39m)\n\u001B[0;32m     59\u001B[0m \u001B[38;5;28;01mdef\u001B[39;00m \u001B[38;5;21m__ge__\u001B[39m(\u001B[38;5;28mself\u001B[39m, other):\n\u001B[1;32m---> 60\u001B[0m     \u001B[38;5;28;01mreturn\u001B[39;00m \u001B[38;5;28mself\u001B[39m\u001B[38;5;241m.\u001B[39m_cmp_method(other, operator\u001B[38;5;241m.\u001B[39mge)\n",
      "File \u001B[1;32m~\\anaconda3\\Lib\\site-packages\\pandas\\core\\arrays\\datetimelike.py:985\u001B[0m, in \u001B[0;36mDatetimeLikeArrayMixin._cmp_method\u001B[1;34m(self, other, op)\u001B[0m\n\u001B[0;32m    983\u001B[0m     other \u001B[38;5;241m=\u001B[39m \u001B[38;5;28mself\u001B[39m\u001B[38;5;241m.\u001B[39m_validate_comparison_value(other)\n\u001B[0;32m    984\u001B[0m \u001B[38;5;28;01mexcept\u001B[39;00m InvalidComparison:\n\u001B[1;32m--> 985\u001B[0m     \u001B[38;5;28;01mreturn\u001B[39;00m invalid_comparison(\u001B[38;5;28mself\u001B[39m, other, op)\n\u001B[0;32m    987\u001B[0m dtype \u001B[38;5;241m=\u001B[39m \u001B[38;5;28mgetattr\u001B[39m(other, \u001B[38;5;124m\"\u001B[39m\u001B[38;5;124mdtype\u001B[39m\u001B[38;5;124m\"\u001B[39m, \u001B[38;5;28;01mNone\u001B[39;00m)\n\u001B[0;32m    988\u001B[0m \u001B[38;5;28;01mif\u001B[39;00m is_object_dtype(dtype):\n\u001B[0;32m    989\u001B[0m     \u001B[38;5;66;03m# We have to use comp_method_OBJECT_ARRAY instead of numpy\u001B[39;00m\n\u001B[0;32m    990\u001B[0m     \u001B[38;5;66;03m#  comparison otherwise it would raise when comparing to None\u001B[39;00m\n",
      "File \u001B[1;32m~\\anaconda3\\Lib\\site-packages\\pandas\\core\\ops\\invalid.py:40\u001B[0m, in \u001B[0;36minvalid_comparison\u001B[1;34m(left, right, op)\u001B[0m\n\u001B[0;32m     38\u001B[0m \u001B[38;5;28;01melse\u001B[39;00m:\n\u001B[0;32m     39\u001B[0m     typ \u001B[38;5;241m=\u001B[39m \u001B[38;5;28mtype\u001B[39m(right)\u001B[38;5;241m.\u001B[39m\u001B[38;5;18m__name__\u001B[39m\n\u001B[1;32m---> 40\u001B[0m     \u001B[38;5;28;01mraise\u001B[39;00m \u001B[38;5;167;01mTypeError\u001B[39;00m(\u001B[38;5;124mf\u001B[39m\u001B[38;5;124m\"\u001B[39m\u001B[38;5;124mInvalid comparison between dtype=\u001B[39m\u001B[38;5;132;01m{\u001B[39;00mleft\u001B[38;5;241m.\u001B[39mdtype\u001B[38;5;132;01m}\u001B[39;00m\u001B[38;5;124m and \u001B[39m\u001B[38;5;132;01m{\u001B[39;00mtyp\u001B[38;5;132;01m}\u001B[39;00m\u001B[38;5;124m\"\u001B[39m)\n\u001B[0;32m     41\u001B[0m \u001B[38;5;28;01mreturn\u001B[39;00m res_values\n",
      "\u001B[1;31mTypeError\u001B[0m: Invalid comparison between dtype=datetime64[ns, America/Sao_Paulo] and date"
     ]
    }
   ],
   "execution_count": 17
  },
  {
   "metadata": {},
   "cell_type": "markdown",
   "source": "# Pontos a evoluir no código",
   "id": "ffd305ed8c6d44d5"
  },
  {
   "metadata": {},
   "cell_type": "code",
   "outputs": [],
   "execution_count": null,
   "source": "",
   "id": "204aafb4e885089a"
  }
 ],
 "metadata": {
  "kernelspec": {
   "display_name": "Python 3",
   "language": "python",
   "name": "python3"
  },
  "language_info": {
   "codemirror_mode": {
    "name": "ipython",
    "version": 2
   },
   "file_extension": ".py",
   "mimetype": "text/x-python",
   "name": "python",
   "nbconvert_exporter": "python",
   "pygments_lexer": "ipython2",
   "version": "2.7.6"
  }
 },
 "nbformat": 4,
 "nbformat_minor": 5
}
